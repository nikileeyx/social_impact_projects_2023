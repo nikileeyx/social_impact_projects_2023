{
  "nbformat": 4,
  "nbformat_minor": 0,
  "metadata": {
    "colab": {
      "provenance": []
    },
    "kernelspec": {
      "name": "python3",
      "display_name": "Python 3"
    },
    "language_info": {
      "name": "python"
    }
  },
  "cells": [
    {
      "cell_type": "markdown",
      "source": [
        "# **Python Programming Code League** 🏆\n",
        "\n",
        "Task: The quiz quest!\n"
      ],
      "metadata": {
        "id": "jCl85Mr5k8OF"
      }
    },
    {
      "cell_type": "markdown",
      "source": [
        "##Example of Task\n",
        "\n",
        "The question is, \"What is the data type of the result of 7 / 3?\"\n",
        "\n",
        "We provide three multiple choice options for the user to choose from:\n",
        "\n",
        "\n",
        "1. int\n",
        "2. float\n",
        "3. str\n",
        "\n",
        "The goal of this question is to test the user's knowledge of data types in Python. Specifically, we want to check if the user knows that the result of dividing an integer by another integer in Python (like 7 divided by 3) will result in a float, not an integer or a string.\n",
        "\n",
        "\n",
        "Once the user selects their answer by inputting a letter (a, b, or c), we check their answer using an if statement to see if it matches the correct answer.\n",
        "\n",
        "\n",
        "If the user answers \"b,\" which is the correct answer, we print the message \"Correct! 7 / 3 is a float.\" If the user answers any other letter, we print the message \"Incorrect. 7 / 3 is a float.\"\n",
        "\n",
        "\n",
        "##**Now you can try the question!**"
      ],
      "metadata": {
        "id": "fkIxqXtblXSa"
      }
    },
    {
      "cell_type": "code",
      "source": [
        "# Data Types Question\n",
        "print(\"Question 2: What is the data type of the result of 7 / 3?\")\n",
        "print(\"a) int\")\n",
        "print(\"b) float\")\n",
        "print(\"c) str\")\n",
        "data_type_answer = input(\"Enter your answer (a, b, or c): \")\n",
        "\n",
        "# Check Data Types Answer\n",
        "if data_type_answer == \"b\":\n",
        "  print(\"Correct! 7 / 3 is a float.\")\n",
        "else:\n",
        "  print(\"Incorrect. 7 / 3 is a float.\")"
      ],
      "metadata": {
        "id": "6JlEMTwhlbUk"
      },
      "execution_count": null,
      "outputs": []
    },
    {
      "cell_type": "markdown",
      "source": [
        "##Task 1: Create a Quiz Question on the UN Sustainable Development Goals\n",
        "\n",
        "Objective: To create a quiz question related to the UN Sustainable Development Goals (SDGs) to test your classmates' knowledge.\n",
        "\n",
        "1. Choose a goal to focus on and research the UN SDGs: Use the UN's website or other reputable sources to learn about the UN SDGs and their goals.\n",
        "\n",
        "2. Choose one of the SDGs that you would like to create a quiz question about.\n",
        "\n",
        "\n",
        "3. Create a question and multiple choice options. Write a multiple-choice question related to the SDG you have chosen. Provide at least three multiple choice options for the question. \n",
        "\n",
        "4. Identify the correct answer for the question.\n",
        "\n",
        "5. Write an explanation for the answer: Write a brief explanation for why the correct answer is the best option.\n",
        "\n"
      ],
      "metadata": {
        "id": "Jmhi_p5hlguj"
      }
    },
    {
      "cell_type": "code",
      "source": [
        "# Welcome the user to the quiz\n",
        "print(\"Welcome to the UN Sustainable Development Goals Quiz!\")\n",
        "\n",
        "#Enter your code here with the relevant comments to explain your code\n"
      ],
      "metadata": {
        "id": "vV0jAIV1ll3k"
      },
      "execution_count": null,
      "outputs": []
    },
    {
      "cell_type": "markdown",
      "source": [
        "##Task 2: Create a Quiz Question on the UN Sustainable Development Goals\n",
        "\n",
        "In this quiz, we have defined a fill-in-the-blank question related to the UN SDGs, with one blank to fill in. The user is prompted to select one of three possible answers for the blank, and then their answer is checked against the correct answer. The quiz provides feedback to the user on whether their answer is correct or incorrect.\n",
        "\n",
        "\n",
        "-------\n",
        "\n",
        "\n",
        "**Step 1:**\n",
        "Choose a UN Sustainable Development Goal: Select one of the 17 UN Sustainable Development Goals to focus on for your quiz question.\n",
        "\n",
        "**Step 2:** Identify a specific goal within the chosen SDG: Identify a specific goal or target within the chosen SDG to create your quiz question about.\n",
        "\n",
        "\n",
        "##**The blanks that you have to fill up are indicated with the \"#\" sign in the code cell below.**"
      ],
      "metadata": {
        "id": "AMSHU6df0WMa"
      }
    },
    {
      "cell_type": "code",
      "source": [
        "# UN Sustainable Development Goals Fill-in-the-Blank Quiz\n",
        "\n",
        "# Welcome the user to the quiz\n",
        "print(\"Welcome to the UN Sustainable Development Goals Quiz!\")\n",
        "\n",
        "# Define the quiz question and answers as strings\n",
        "question = #String input here\n",
        "blank_1_options = #List input here\n",
        "answer = #String input here\n",
        "\n",
        "# Define the quiz text as a string\n",
        "quiz_text = f\"\"\"\n",
        "Please fill in the blank to complete the following sentence:\n",
        "\n",
        "{question}\n",
        "\n",
        "Your options for filling in the blank are:\n",
        "a) {blank_1_options[0]}\n",
        "b) {blank_1_options[1]}\n",
        "c) {blank_1_options[2]}\n",
        "\n",
        "What is your answer? Please input the letter (a, b, or c) of your choice: \"\"\"\n",
        "\n",
        "# Prompt the user for their answer and save it\n",
        "user_answer = input(quiz_text)\n",
        "\n",
        "# Check if the user's answer is correct and provide feedback\n",
        "if user_answer.lower() == \"#input the correct answer here\":\n",
        "    print(\"Correct! #Explaination for the correct answer here!\")\n",
        "else:\n",
        "    print(\"Incorrect. #Explaination for the incorrect answer here!\")"
      ],
      "metadata": {
        "id": "WbXGBZqH0WaE"
      },
      "execution_count": null,
      "outputs": []
    },
    {
      "cell_type": "markdown",
      "source": [
        "##Task 3: Create another question on the UN Sustainable Development Goals\n",
        "\n",
        "This is an extra segment! You will score the points if you create another question about the UN Sustainable Development Goals!\n",
        "\n",
        "-------"
      ],
      "metadata": {
        "id": "3kV2JM0V1zxG"
      }
    },
    {
      "cell_type": "code",
      "source": [
        "# Welcome the user to the quiz\n",
        "print(\"Welcome to the UN Sustainable Development Goals Quiz!\")\n",
        "\n",
        "#Enter your code here with the relevant comments to explain your code\n",
        "\n",
        "\n",
        "\n",
        "\n",
        "\n",
        "\n",
        "\n",
        "\n",
        "\n",
        "\n"
      ],
      "metadata": {
        "id": "NTnDfA2d1_9z"
      },
      "execution_count": null,
      "outputs": []
    },
    {
      "cell_type": "markdown",
      "source": [
        "##Congratuations! 🏆\n",
        "Good luck and happy programming! 👍"
      ],
      "metadata": {
        "id": "99lsKTSylxnr"
      }
    }
  ]
}
