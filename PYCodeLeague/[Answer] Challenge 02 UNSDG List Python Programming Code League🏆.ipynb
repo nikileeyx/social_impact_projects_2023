{
  "nbformat": 4,
  "nbformat_minor": 0,
  "metadata": {
    "colab": {
      "provenance": []
    },
    "kernelspec": {
      "name": "python3",
      "display_name": "Python 3"
    },
    "language_info": {
      "name": "python"
    }
  },
  "cells": [
    {
      "cell_type": "markdown",
      "source": [
        "# **Python Programming Code League** 🏆\n",
        "\n",
        "Tasks: Write a function to find the second largest number in a given list for the three lists. \n",
        "\n",
        "This whole task is worth 100 points.\n",
        "\n",
        "Task 1: 20 points\n",
        "\n",
        "Task 2: 50 points\n",
        "\n",
        "Task 3: 30 points\n",
        "\n",
        "------\n",
        "\n",
        "**Background of Problem**\n",
        "\n",
        "This a common programming problem that is often used in technical interviews to test a candidate's ability to write efficient and effective code to solve a given problem.\n",
        "\n",
        "\n",
        "Create a dictionary for the United Nations Sustainable Development Goals (SDGs) in Python. A dictionary is a type of data structure in Python that stores key-value pairs, allowing us to easily reference and retrieve values based on their associated keys. We can create a dictionary for the SDGs by mapping each SDG number (1-17) to its corresponding name. \n",
        "\n",
        "\n",
        "Once we have created the dictionary, we can use it in various Python applications to reference the SDGs by their number or name. This task provides a great opportunity for students to practice their Python programming skills while also learning about the SDGs and their importance in promoting sustainable development.\n",
        "\n",
        "-------\n"
      ],
      "metadata": {
        "id": "jCl85Mr5k8OF"
      }
    },
    {
      "cell_type": "markdown",
      "source": [
        "\n",
        "**Here is an example Python question for sorting the UN SDGs using a list of strings:**\n",
        "\n",
        "Write a function called sort_sdgs that takes a list of strings representing the United Nations Sustainable Development Goals (SDGs) and returns a new list of strings with the SDGs sorted in ascending order based on their goal number.\n",
        "\n",
        "Here's an example input and output to help you understand the problem:\n",
        "\n",
        "\n",
        "```\n",
        "Input: [\"SDG 3\", \"SDG 10\", \"SDG 1\", \"SDG 7\", \"SDG 5\"]\n",
        "Output: [\"SDG 1\", \"SDG 3\", \"SDG 5\", \"SDG 7\", \"SDG 10\"]\n",
        "```\n",
        "\n"
      ],
      "metadata": {
        "id": "RuuTzu2LnsLw"
      }
    },
    {
      "cell_type": "markdown",
      "source": [
        "#Error and Bug Reporting 👻\n",
        "\n",
        "If you face any errors or bugs in the code, please send an email to Niki at niki.lee@sustainablelivinglab.org !"
      ],
      "metadata": {
        "id": "f8cKGae6pC6h"
      }
    },
    {
      "cell_type": "markdown",
      "source": [
        "##Task 1\n",
        "\n",
        "In the function, sdgs is a list of strings representing the SDGs, and the function should return a new list of strings sorted in ascending order based on their goal number. The function should not modify the original input list.\n",
        "\n",
        "Your task is to implement the sort_sdgs function and ensure that it returns the correct output for the example input provided above. You can assume that the input list will always contain valid SDG strings in the format \"SDG X\", where X is an integer between 1 and 17.\n",
        "\n",
        "Here is the function signature you can use:\n",
        "\n",
        "```\n",
        "def sort_sdgs(sdgs: List[str]) -> List[str]:\n",
        "    pass\n",
        "    \n",
        "```\n",
        "\n"
      ],
      "metadata": {
        "id": "fkIxqXtblXSa"
      }
    },
    {
      "cell_type": "code",
      "source": [
        "#Enter your code here with the relevant comments to explain your code\n",
        "\n",
        "def sort_sdgs(unsdg):\n",
        "    return int(unsdg.split()[1])\n",
        "\n",
        "unsdgs = [\"UNSDG 1\", \"UNSDG 17\", \"UNSDG 5\", \"UNSDG 3\", \"UNSDG 8\"]\n",
        "sorted_unsdgs = sorted(unsdgs, key=sort_sdgs)\n",
        "print(sorted_unsdgs) \n",
        "\n",
        "# The correct output will be [\"SDG 1\", \"SDG 3\", \"SDG 5\", \"SDG 7\", \"SDG 10\"]"
      ],
      "metadata": {
        "id": "6JlEMTwhlbUk",
        "colab": {
          "base_uri": "https://localhost:8080/"
        },
        "outputId": "4087c0c0-a51e-439e-b171-5e909493466f"
      },
      "execution_count": 1,
      "outputs": [
        {
          "output_type": "stream",
          "name": "stdout",
          "text": [
            "['UNSDG 1', 'UNSDG 3', 'UNSDG 5', 'UNSDG 8', 'UNSDG 17']\n"
          ]
        }
      ]
    },
    {
      "cell_type": "markdown",
      "source": [
        "#Task 2\n",
        "\n",
        "Now that you have created the list of SDGs sorted, we will create a dictionary. In this code, we create a dictionary called unsdgs that maps the SDG number (1-17) to its corresponding name. We then print the dictionary to the console using the print function.\n",
        "\n",
        "\n",
        "**Your Task**\n",
        "1. Complete the dictionary by filling up the missing items in the dictionary\n",
        "2. Print UN SDG 12 on the console with the relevant 2 lines of "
      ],
      "metadata": {
        "id": "z6g9cDZl4nWY"
      }
    },
    {
      "cell_type": "code",
      "source": [
        "# Create a dictionary for the UN Sustainable Development Goals (SDGs)\n",
        "unsdgs = {\n",
        "    1: \"No Poverty\",\n",
        "    2: \"Zero Hunger\",\n",
        "    3: \"Good Health and Well-being\",\n",
        "    4: \"Quality Education\",\n",
        "    5: \"Gender Equality\",\n",
        "    6: \"Clean Water and Sanitation\",\n",
        "    7: \"Affordable and Clean Energy\",\n",
        "    8: \"Decent Work and Economic Growth\",\n",
        "    9: \"Industry, Innovation and Infrastructure\",\n",
        "    10: \"Reduced Inequalities\",\n",
        "    11: \"Sustainable Cities and Communities\",\n",
        "    12: \"Responsible Consumption and Production\",\n",
        "    13:  \"Climate Action\",\n",
        "    14: \"Life Below Water\",\n",
        "    15: \"Life On Land\",\n",
        "    16: \"Peace, Justice and Strong Institutions\",\n",
        "    17: \"Partnerships for the Goals\"\n",
        "}\n",
        "\n",
        "# Print the dictionary\n",
        "print(unsdgs)"
      ],
      "metadata": {
        "id": "Nc6tmpCa438P",
        "colab": {
          "base_uri": "https://localhost:8080/"
        },
        "outputId": "ac77edbb-4bf1-4286-9caf-23c8a29040c6"
      },
      "execution_count": 2,
      "outputs": [
        {
          "output_type": "stream",
          "name": "stdout",
          "text": [
            "{1: 'No Poverty', 2: 'Zero Hunger', 3: 'Good Health and Well-being', 4: 'Quality Education', 5: 'Gender Equality', 6: 'Clean Water and Sanitation', 7: 'Affordable and Clean Energy', 8: 'Decent Work and Economic Growth', 9: 'Industry, Innovation and Infrastructure', 10: 'Reduced Inequalities', 11: 'Sustainable Cities and Communities', 12: 'Responsible Consumption and Production', 13: 'Climate Action', 14: 'Life Below Water', 15: 'Life On Land', 16: 'Peace, Justice and Strong Institutions', 17: 'Partnerships for the Goals'}\n"
          ]
        }
      ]
    },
    {
      "cell_type": "markdown",
      "source": [
        "##Congratulations on creating the dictionary! 🌟\n",
        "\n",
        "#Task 3\n",
        "\n",
        "In this code above, we created a dictionary called unsdgs that maps the SDG number (1-17) to its corresponding name. We then print the dictionary to the console using the print function.\n",
        "\n",
        "This dictionary can be used in various Python applications to reference the SDGs by their number or name. For example, we can access the name of UNSDG 12 (Quality Education) using the following code:"
      ],
      "metadata": {
        "id": "mhtQKTwF5R3p"
      }
    },
    {
      "cell_type": "code",
      "source": [
        "# Access the name of UNSDG 12 from the dictionary\n",
        "\n",
        "print(\"Name of UNSDG 12: \" + unsdgs[12])\n",
        "# Print the name of UNSDG 12 to the console\n"
      ],
      "metadata": {
        "id": "RCzRQagW5bMy",
        "colab": {
          "base_uri": "https://localhost:8080/"
        },
        "outputId": "042a7478-37fc-41d4-c018-e2181ddc2eb2"
      },
      "execution_count": 3,
      "outputs": [
        {
          "output_type": "stream",
          "name": "stdout",
          "text": [
            "Name of UNSDG 12: Responsible Consumption and Production\n"
          ]
        }
      ]
    },
    {
      "cell_type": "markdown",
      "source": [
        "##Congratuations! 🏆\n",
        "\n",
        "Good luck and happy programming! 👍 \n",
        "\n",
        "Please turn them in to the respective Week's (Foundational Week 2) content drive on the SIF Portal when completed!\n",
        "\n"
      ],
      "metadata": {
        "id": "99lsKTSylxnr"
      }
    }
  ]
}
