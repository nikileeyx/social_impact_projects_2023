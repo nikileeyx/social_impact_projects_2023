{
  "nbformat": 4,
  "nbformat_minor": 0,
  "metadata": {
    "colab": {
      "provenance": []
    },
    "kernelspec": {
      "name": "python3",
      "display_name": "Python 3"
    },
    "language_info": {
      "name": "python"
    }
  },
  "cells": [
    {
      "cell_type": "markdown",
      "source": [
        "# Python Challenge 05: Ocean Acidification with Rule-based Learning\n",
        "\n",
        "\n",
        "Task: Ocean acidification is a growing concern for marine ecosystems due to the increase in carbon dioxide (CO2) emissions in the atmosphere. The increase in CO2 concentration in seawater leads to a decrease in pH, making it more acidic. \n",
        "\n",
        "\n",
        "This has a significant impact on marine organisms, particularly those that rely on calcium carbonate to build their shells and skeletons. In this Colab task, we will explore the impact of ocean acidification on marine ecosystems and learn how to develop a rule-based system to model this phenomenon.\n",
        "\n",
        "\n",
        "Learn more about Ocean Acidification:\n",
        "\n",
        "https://www.youtube.com/watch?v=L2bxwnm7JG4\n",
        "\n",
        "This whole task is worth 100 points.\n",
        "\n",
        "---\n",
        "\n",
        "Task 1: 10 points\n",
        "\n",
        "Task 2: 30 points\n",
        "\n",
        "Task 3: 60 points\n"
      ],
      "metadata": {
        "id": "Gpj2J8lYCQ1h"
      }
    },
    {
      "cell_type": "markdown",
      "source": [
        "\n",
        "---\n",
        "\n",
        "Objectives:\n",
        "\n",
        "\n",
        "*   Understand the basics of ocean acidification and its impact on marine ecosystems\n",
        "\n",
        "*   Learn about rule-based systems and how they can be used to model complex phenomena\n",
        "\n",
        "*   Implement a simple rule-based system in Python to simulate the impact of ocean acidification on marine organisms"
      ],
      "metadata": {
        "id": "t4SU79sZJMWD"
      }
    },
    {
      "cell_type": "markdown",
      "source": [
        "#Task 1: Understanding Variables in a Systems\n",
        "\n",
        "In Python, we store values as variables. This is done in terms of these key variables. Let's list them down in the notebook and answer what are their variable types.\n",
        "\n",
        "\n",
        "\n",
        "1.   pH value\n",
        "2.   carbonate concentration\n",
        "3.   temperature\n",
        "\n",
        "\n",
        "Set the values as follows, pH value is 7.5, carbonate concentration is 200 and temperature is 23."
      ],
      "metadata": {
        "id": "1jmTIqKqcrQA"
      }
    },
    {
      "cell_type": "code",
      "source": [
        "# Define the variables\n",
        "\n",
        "ph=7.5\n",
        "cc=200\n",
        "temp=23\n",
        "\n",
        "#debug \n",
        "#print(ph, cc, temp)"
      ],
      "metadata": {
        "id": "chZ6iGV6Jr7h",
        "colab": {
          "base_uri": "https://localhost:8080/"
        },
        "outputId": "c8079dab-f3a1-4ecf-9a9d-7b6ffb559f7f"
      },
      "execution_count": null,
      "outputs": [
        {
          "output_type": "stream",
          "name": "stdout",
          "text": [
            "7.5 200 23\n"
          ]
        }
      ]
    },
    {
      "cell_type": "markdown",
      "source": [
        "#Task 2: Designing the Rule-based System\n"
      ],
      "metadata": {
        "id": "WMg7QZGwJsgR"
      }
    },
    {
      "cell_type": "markdown",
      "source": [
        "##Here's an example of how to create a rule based system:\n",
        "\n",
        "In this code, the bring_umbrella_out function takes in one parameter: chance_of_rain. It applies a set of rules to this parameter and returns a string indicating whether the user should bring an umbrella out or not.\n",
        "\n",
        "The chance_of_rain variable is the input parameter for the rule-based system. Based on this input parameter, the bring_umbrella_out function makes a decision using a set of if-else statements.\n",
        "\n",
        "After applying the rules to the input parameter, the code prints the resulting decision.\n",
        "\n",
        "Students can modify this code to add more rules or input parameters to their rule-based system and test its effectiveness using different values."
      ],
      "metadata": {
        "id": "jEw7n6K-cyXw"
      }
    },
    {
      "cell_type": "markdown",
      "source": [
        "## Scenario for Rule-based System\n",
        "\n",
        "Once upon a time, there was a young girl named Maya. Maya lived in a city where it often rained unpredictably. Some days it would rain heavily, while other days the sun would shine brightly. As a result, Maya often found herself in a dilemma about whether or not to bring an umbrella with her when she went out.\n",
        "\n",
        "One day, Maya decided to solve this problem by building a rule-based system that would help her decide whether or not to bring an umbrella with her.\n",
        "\n",
        "Maya first identified the input parameter for her rule-based system: the chance of rain. She then defined a set of rules that would help her make a decision based on this input parameter.\n",
        "\n",
        "Maya's first rule was that if the chance of rain was less than 30%, she would not need to bring an umbrella. Her second rule was that if the chance of rain was between 30% and 60%, she should bring an umbrella just in case. Finally, Maya's third rule was that if the chance of rain was greater than 60%, she should definitely bring an umbrella as it was going to rain.\n",
        "\n",
        "Maya then wrote a simple Python program that would apply these rules to the chance of rain and provide her with a decision about whether or not to bring an umbrella. Complete the script! \n",
        "\n",
        "\n",
        "**(Please watch the recorded session on Python for Rule-based Systems to have a better understanding!)**.- Artificial Intelligence Foundational Week 3 Part 3"
      ],
      "metadata": {
        "id": "dh0pG4t2Lpyr"
      }
    },
    {
      "cell_type": "markdown",
      "source": [
        "**Learning Outcome**\n",
        "\n",
        "*   Understand how rule-based systems work and how they can be implemented in Python\n",
        "*   Develop skills in working with if-else statements and variables in Python\n",
        "*   Analyze and interpret the results of a rule-based system to understand the factors that contribute to decision-making\n",
        "\n"
      ],
      "metadata": {
        "id": "-YfpuE_KOZe5"
      }
    },
    {
      "cell_type": "code",
      "source": [
        "# Define the rules\n",
        "def bring_umbrella_out(chance_of_rain):\n",
        "    if chance_of_rain < 30:\n",
        "        return(\"umbrella not needed as chance_of_rain is below 30\") \n",
        "    elif chance_of_rain <= 60:\n",
        "        return(\"umbrella needed as chance_of_rain is above 30\")\n",
        "    else:\n",
        "        return(\"umbrella needed as chance_of_rain is above 60\")\n",
        "\n",
        "# Define the input parameter\n",
        "\n",
        "chance_of_rain = int(input('enter number for variable chance_of_rain:'))\n",
        "\n",
        "# Apply the rules and print the result\n",
        "result = bring_umbrella_out(chance_of_rain)\n",
        "print(result)\n",
        "\n"
      ],
      "metadata": {
        "id": "IJJN1U4HLH3G",
        "colab": {
          "base_uri": "https://localhost:8080/"
        },
        "outputId": "f8e10c75-67f8-4e83-cc24-0b7f0c7c4608"
      },
      "execution_count": null,
      "outputs": [
        {
          "output_type": "stream",
          "name": "stdout",
          "text": [
            "enter number for variable chance_of_rain:30\n",
            "umbrella needed as chance_of_rain is above <30\n"
          ]
        }
      ]
    },
    {
      "cell_type": "markdown",
      "source": [
        "#Task 3: Designing the Rule-based System for Ocean Acidification\n",
        "\n",
        "In Python, we store values as variables. This is done in terms of these key variables. Let's list them down in the notebook and answer what are their variable types.\n",
        "\n",
        "The pH, temperature, and carbonate_concentration variables are the input parameters for the rule-based system. Students can change these values to test how different parameters impact the rule-beased results.\n",
        "\n",
        "After applying the rules to the input parameters, the code prints the resulting impact on marine organisms.\n",
        "\n",
        "You can modify this code to add more rules or input parameters to their rule-based system and test its effectiveness using different values."
      ],
      "metadata": {
        "id": "ZI2tKvjJLMhn"
      }
    },
    {
      "cell_type": "code",
      "source": [
        "# Define the rules\n",
        "def apply_rules(pH, temperature, carbonate_concentration):\n",
        "    if pH < 7.8 and carbonate_concentration < 200:\n",
        "      print(\"water is fine for fish to die\")\n",
        "    elif pH > 8:\n",
        "      print(\"water is perfect\")\n",
        "    elif temperature > 40:\n",
        "      print(\"water is good for bathing but bad for fish to live in\")\n",
        "    else:\n",
        "      print(\"Normal ocean conditions. No significant impact on marine organisms due to acidity or temperature.\")\n",
        "\n",
        "# Define the input parameters\n",
        "pH = 7.5\n",
        "temperature = 27\n",
        "carbonate_concentration = 150\n",
        "\n",
        "pH = int(input(\"input pH level:\"))\n",
        "temperature = int(input(\"input temp:\"))\n",
        "carbonate_concentration = int(input(\"input cc level:\"))\n",
        "# Apply the rules and print the result\n",
        "result = apply_rules(pH, temperature, carbonate_concentration)\n",
        "print(result)"
      ],
      "metadata": {
        "id": "IBDeDGOYcyhY",
        "colab": {
          "base_uri": "https://localhost:8080/"
        },
        "outputId": "4721749d-2042-432d-e623-85afec7a55ad"
      },
      "execution_count": null,
      "outputs": [
        {
          "output_type": "stream",
          "name": "stdout",
          "text": [
            "input pH level:6\n",
            "input temp:1\n",
            "input cc level:10\n",
            "water is fine for fish to die\n",
            "None\n"
          ]
        }
      ]
    },
    {
      "cell_type": "markdown",
      "source": [
        "##Congratuations! 🏆\n",
        "Once you have completed all the three questions, save a copy and turn in your solution to the Learner's Portal! Let Niki know when you have completed it. \n",
        "\n",
        "Please let me know if you have questions! \n",
        "\n",
        "Email: niki.lee@sustainablelivinglab.org\n",
        "\n",
        "Discord: Nikilyx#3607\n",
        "\n",
        "Good luck and happy programming! 👍"
      ],
      "metadata": {
        "id": "UWhjmC98W6hE"
      }
    },
    {
      "cell_type": "code",
      "source": [],
      "metadata": {
        "id": "gaTzYPhDMVHJ"
      },
      "execution_count": null,
      "outputs": []
    }
  ]
}