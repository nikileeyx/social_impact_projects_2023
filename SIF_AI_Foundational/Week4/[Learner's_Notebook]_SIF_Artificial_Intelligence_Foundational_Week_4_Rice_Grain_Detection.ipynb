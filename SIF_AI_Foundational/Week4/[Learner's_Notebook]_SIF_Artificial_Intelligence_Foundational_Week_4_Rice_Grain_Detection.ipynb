{
  "nbformat": 4,
  "nbformat_minor": 0,
  "metadata": {
    "colab": {
      "provenance": []
    },
    "kernelspec": {
      "name": "python3",
      "display_name": "Python 3"
    },
    "language_info": {
      "name": "python"
    }
  },
  "cells": [
    {
      "cell_type": "markdown",
      "source": [
        "#[SIF Artificial Intelligence Foundational] Week 4 - Rice Grain Detection.ipynb\n",
        "\n",
        "🌟 In this Rice Classification Notebook, we will be using the classified rice grains that we have sorted in the previous activity. We will be using supervised learning for this.\n",
        "\n",
        "🌟 This notebook will take you through the full journey of the AI Project Cycle. This starts from defining the problem. \n",
        "\n",
        "🌟 Next we will upload and visualise our data before designing a machine learning model to process the data."
      ],
      "metadata": {
        "id": "8ggF4yc1pWvz"
      }
    },
    {
      "cell_type": "markdown",
      "source": [
        "#1. Problem Scope\n",
        "\n",
        "The **identification** **of** **different** **varieties** **of** **rice** was discussed at a huge level during the processing of food elements. The traditional and conventional techniques were used for the identification of different rice varieties, which were collected from different real field sources. \n",
        "\n",
        "This technique was more expensive, a slow process, and time-consuming. Furthermore, there are many varieties of rice and it is very difficult to identify the actual verity of rice with the help of rice grain. \n",
        "\n",
        "So, we need an automated system, which helps us in the identification of rice varieties with better accuracy. The main purpose of this is describing the identification of rice varieties using different rice grains."
      ],
      "metadata": {
        "id": "XaHp_5TOGOQ3"
      }
    },
    {
      "cell_type": "markdown",
      "source": [
        "#2a. Importing the Libraries"
      ],
      "metadata": {
        "id": "M2gfrEVXGVwH"
      }
    },
    {
      "cell_type": "code",
      "execution_count": null,
      "metadata": {
        "id": "BOo4zob1UBc7"
      },
      "outputs": [],
      "source": [
        "# Importing necessary libraries\n",
        "\n",
        "# Building deep learning models\n",
        "import tensorflow as tf \n",
        "from tensorflow import keras \n",
        "# For accessing pre-trained models\n",
        "import tensorflow_hub as hub \n",
        "# For separating train and test sets\n",
        "from sklearn.model_selection import train_test_split\n",
        "\n",
        "# For visualizations\n",
        "import matplotlib.pyplot as plt\n",
        "import matplotlib.image as img\n",
        "import PIL.Image as Image\n",
        "import cv2\n",
        "\n",
        "import os\n",
        "import numpy as np\n",
        "import pathlib\n",
        "import zipfile"
      ]
    },
    {
      "cell_type": "code",
      "source": [
        "#Mount the Google Drive\n"
      ],
      "metadata": {
        "id": "lFybGmr5ziMZ"
      },
      "execution_count": 2,
      "outputs": []
    },
    {
      "cell_type": "markdown",
      "source": [
        "#2b. Uploading the Data Set\n",
        "\n",
        "Now, we will upload the Google Drive and the images from the rice."
      ],
      "metadata": {
        "id": "LkeZAqzZSXms"
      }
    },
    {
      "cell_type": "code",
      "source": [
        "data_dir = \"/content/drive/MyDrive/rice_image_dataset/\" # Datasets path\n",
        "data_dir = pathlib.Path(data_dir)\n",
        "data_dir"
      ],
      "metadata": {
        "id": "oUzLf5vTUyia"
      },
      "execution_count": 2,
      "outputs": []
    },
    {
      "cell_type": "markdown",
      "source": [
        "#3. Data Visualization\n",
        "\n",
        "We now can visualize the data using this line of code. Take a look at each of the rice grain from different categories!"
      ],
      "metadata": {
        "id": "gMwrquuBhv1E"
      }
    },
    {
      "cell_type": "code",
      "source": [
        "tf.keras.utils.load_img(\"/content/drive/MyDrive/rice_image_dataset/Jasmine/Jasmine (1).jpg\",target_size=(250,250))"
      ],
      "metadata": {
        "id": "cg_xf1_oh6C_"
      },
      "execution_count": 2,
      "outputs": []
    },
    {
      "cell_type": "code",
      "source": [
        "#Let's try another one!\n",
        "tf.keras.utils.load_img(\"/content/drive/MyDrive/rice_image_dataset/Arborio/Arborio (1).jpg\",target_size=(250,250))"
      ],
      "metadata": {
        "id": "bpwbdKubXoMH"
      },
      "execution_count": 1,
      "outputs": []
    },
    {
      "cell_type": "code",
      "source": [
        "arborio = list(data_dir.glob('Arborio/*'))[:600]\n",
        "basmati = list(data_dir.glob('Basmati/*'))[:600]\n",
        "ipsala = list(data_dir.glob('Ipsala/*'))[:600]\n",
        "jasmine = list(data_dir.glob('Jasmine/*'))[:600]\n",
        "karacadag = list(data_dir.glob('Karacadag/*'))[:600]"
      ],
      "metadata": {
        "id": "BRXQawoUU1Xp"
      },
      "execution_count": null,
      "outputs": []
    },
    {
      "cell_type": "code",
      "source": [
        "#Let's take a look at the rice grains next to each other\n",
        "\n",
        "fig, ax = plt.subplots(ncols=5, figsize=(20,5))\n",
        "fig.suptitle('Rice Category')\n"
      ],
      "metadata": {
        "id": "FgwGSfSUU3wy"
      },
      "execution_count": null,
      "outputs": []
    },
    {
      "cell_type": "markdown",
      "source": [
        "#4. Data Labeling"
      ],
      "metadata": {
        "id": "-iVBj5eLpRTD"
      }
    },
    {
      "cell_type": "code",
      "source": [
        "# Contains the images path\n",
        "df_images = {\n",
        "\n",
        "\n",
        "# Contains numerical labels for the categories\n",
        "df_labels = {"
      ],
      "metadata": {
        "id": "JKOG_flZXhjN"
      },
      "execution_count": null,
      "outputs": []
    },
    {
      "cell_type": "code",
      "source": [
        "# Converting the images into numerical arrays\n",
        "\n",
        "\n",
        "#Reshape the images into 250 by 250 by 3"
      ],
      "metadata": {
        "id": "iKHXjZv_XiY1"
      },
      "execution_count": null,
      "outputs": []
    },
    {
      "cell_type": "code",
      "source": [
        "X, y = [], [] # X = images, y = labels\n",
        "for label, images in df_images.items():\n",
        "    for image in images:\n",
        "        img = cv2.imread(str(image))\n",
        "        resized_img = cv2.resize(img, (224, 224)) # Resizing the images to be able to pass on MobileNetv2 model\n",
        "        X.append(resized_img) \n",
        "        y.append(df_labels[label])"
      ],
      "metadata": {
        "id": "_ZevRdWtanSu"
      },
      "execution_count": null,
      "outputs": []
    },
    {
      "cell_type": "code",
      "source": [
        "# Standarizing\n",
        "X = np.array(X)\n",
        "X = X/255\n",
        "y = np.array(y)\n",
        "\n",
        "# Separating data into training, test and validation sets\n",
        "X_train, X_test_val, y_train, y_test_val = train_test_split(X, y) #default 0.25 split\n",
        "X_test, X_val, y_test, y_val = train_test_split(X_test_val, y_test_val) #Validation set"
      ],
      "metadata": {
        "id": "6SAwp6PjpHsQ"
      },
      "execution_count": null,
      "outputs": []
    },
    {
      "cell_type": "markdown",
      "source": [
        "# 5a. Modeling\n"
      ],
      "metadata": {
        "id": "ib9Fv4-nj2yi"
      }
    },
    {
      "cell_type": "code",
      "source": [
        "mobile_net = 'https://tfhub.dev/google/tf2-preview/mobilenet_v2/feature_vector/4' # MobileNetv4 link\n",
        "mobile_net = hub.KerasLayer(\n",
        "        mobile_net, input_shape=(224,224, 3), trainable=False) # Removing the last layer"
      ],
      "metadata": {
        "id": "0fCvLrR7j4Ww"
      },
      "execution_count": null,
      "outputs": []
    },
    {
      "cell_type": "code",
      "source": [
        "num_label = 5 # number of labels\n",
        "\n",
        "model = keras.Sequential([\n",
        "    mobile_net,\n",
        "    keras.layers.Dense(num_label)\n",
        "])\n",
        "\n",
        "model.summary()"
      ],
      "metadata": {
        "id": "U7xZd2zLpsdz"
      },
      "execution_count": null,
      "outputs": []
    },
    {
      "cell_type": "markdown",
      "source": [
        "#5b. Training the Model"
      ],
      "metadata": {
        "id": "DlWnd8V5pw_f"
      }
    },
    {
      "cell_type": "code",
      "source": [
        "model.compile(\n",
        "  optimizer=\"adam\",\n",
        "  loss=tf.keras.losses.SparseCategoricalCrossentropy(from_logits=True),\n",
        "  metrics=['acc'])\n",
        "\n",
        "history = model.fit(X_train, y_train, epochs=10, validation_data=(X_val, y_val))\n"
      ],
      "metadata": {
        "id": "52CWGhWVpvWL"
      },
      "execution_count": null,
      "outputs": []
    },
    {
      "cell_type": "code",
      "source": [
        "from sklearn.metrics import classification_report\n",
        "\n",
        "y_pred = model.predict(X_test, batch_size=64, verbose=1)\n",
        "y_pred_bool = np.argmax(y_pred,axis=1)\n",
        "\n",
        "print(classification_report(y_test, y_pred_bool))"
      ],
      "metadata": {
        "id": "HB00Bjj_p502"
      },
      "execution_count": null,
      "outputs": []
    },
    {
      "cell_type": "markdown",
      "source": [
        "#6. Visualizing the Model\n"
      ],
      "metadata": {
        "id": "nulFzXgVp9p_"
      }
    },
    {
      "cell_type": "code",
      "source": [
        "plt.plot(history.history['acc'],marker='x')\n",
        "plt.plot(history.history['val_acc'],marker='o')\n",
        "plt.title('model accuracy')\n",
        "plt.ylabel('accuracy')\n",
        "plt.xlabel('epoch')\n",
        "plt.legend(['train', 'val'], loc='lower right')\n",
        "plt.show()"
      ],
      "metadata": {
        "id": "8SlQQLl_p7jX"
      },
      "execution_count": null,
      "outputs": []
    },
    {
      "cell_type": "code",
      "source": [
        "plt.plot(history.history['loss'],marker='o')\n",
        "plt.plot(history.history['val_loss'], marker='o')\n",
        "plt.title('model loss')\n",
        "plt.ylabel('loss')\n",
        "plt.xlabel('epoch')\n",
        "plt.legend(['train', 'val'], loc='upper right')\n",
        "plt.show()"
      ],
      "metadata": {
        "id": "KQz5MJ5iqCGW"
      },
      "execution_count": null,
      "outputs": []
    },
    {
      "cell_type": "markdown",
      "source": [
        "#Reflections 🤔\n",
        "\n",
        "Congratulations on completing the notebook! Now, we will be reflecting on the experience and also documenting some of the interesting points that you have encountered!"
      ],
      "metadata": {
        "id": "Jrsdm2CTqUwy"
      }
    },
    {
      "cell_type": "markdown",
      "source": [
        "What did you learn from this Python coding activity?"
      ],
      "metadata": {
        "id": "oVpLuL_JFl1t"
      }
    },
    {
      "cell_type": "code",
      "source": [],
      "metadata": {
        "id": "rhn7cLLiFpvP"
      },
      "execution_count": null,
      "outputs": []
    },
    {
      "cell_type": "markdown",
      "source": [
        "What are some important metrics to determine how good a machine learning model is?"
      ],
      "metadata": {
        "id": "j_Qp288BFtIY"
      }
    },
    {
      "cell_type": "code",
      "source": [],
      "metadata": {
        "id": "bDGNFLEOF0i2"
      },
      "execution_count": null,
      "outputs": []
    },
    {
      "cell_type": "markdown",
      "source": [
        "What did you enjoy most in this session?"
      ],
      "metadata": {
        "id": "Y3oI3jRGF1V6"
      }
    },
    {
      "cell_type": "code",
      "source": [],
      "metadata": {
        "id": "cvoOpepvF4DL"
      },
      "execution_count": null,
      "outputs": []
    }
  ]
}