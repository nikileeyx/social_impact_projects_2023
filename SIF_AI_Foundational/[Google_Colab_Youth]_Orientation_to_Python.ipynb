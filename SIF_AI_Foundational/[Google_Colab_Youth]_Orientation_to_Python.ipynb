{
  "cells": [
    {
      "cell_type": "markdown",
      "metadata": {
        "id": "KKBNi45nYDzA"
      },
      "source": [
        "#AI4Y (Express Version) Google Colab Notebook Test\n",
        "\n",
        "This is the master copy of the Google Colaboratory Notebook for testing that the libraries, datasets and functions work on the school and/or students' devices.\n",
        "\n",
        "Please duplicate this document into your Google Drive before running the code. The tutorial to do that can be found here.\n"
      ]
    },
    {
      "cell_type": "markdown",
      "metadata": {
        "id": "wwCuJqqmkDNK"
      },
      "source": [
        "# 0. Running a Code Cell\n",
        "\n",
        "\n",
        "\n",
        "```\n",
        "# This is formatted as code\n",
        "```\n",
        "\n"
      ]
    },
    {
      "cell_type": "code",
      "execution_count": null,
      "metadata": {
        "id": "IKA9tm3hsYq2"
      },
      "outputs": [],
      "source": []
    },
    {
      "cell_type": "markdown",
      "metadata": {
        "id": "JsX7eyInpMC3"
      },
      "source": [
        "Test this line of code below by pressing the \"play\" button on the left grey box of the next cell.\n",
        "\n",
        "If successful, the right output would show below as \"Done.\" As such:\n",
        "\n",
        "\n",
        "```\n",
        "Done.\n",
        "```\n",
        "\n",
        "Resources Used:\n",
        "\n",
        "https://colab.research.google.com/github/CSCfi/machine-learning-scripts/blob/master/notebooks/keras-test-setup.ipynb#scrollTo=yeHgBV6OyBVf\n",
        "\n",
        "\n"
      ]
    },
    {
      "cell_type": "code",
      "execution_count": null,
      "metadata": {
        "colab": {
          "base_uri": "https://localhost:8080/"
        },
        "id": "VjkPDwNEkICB",
        "outputId": "1c6ea19f-3917-4f8b-99c1-e5e58c2e1080"
      },
      "outputs": [
        {
          "name": "stdout",
          "output_type": "stream",
          "text": [
            "Running successful\n"
          ]
        }
      ],
      "source": [
        "print(\"Running successful\")"
      ]
    },
    {
      "cell_type": "markdown",
      "metadata": {
        "id": "ebo5bXe9X020"
      },
      "source": [
        "# Task 1 - Hello World with the \"print\" function\n",
        "\n",
        "\n",
        "Your task is to write one line of code to print the below. Your output should look like this:\n",
        "\n",
        "\n",
        "\n",
        "```\n",
        "Hello World\n",
        "```\n",
        "\n"
      ]
    },
    {
      "cell_type": "markdown",
      "metadata": {
        "id": "aFsLGru5plXb"
      },
      "source": [
        "Write your code in the box below:"
      ]
    },
    {
      "cell_type": "code",
      "execution_count": null,
      "metadata": {
        "id": "y8w990pPpEu5"
      },
      "outputs": [],
      "source": []
    },
    {
      "cell_type": "markdown",
      "source": [
        "#Task 2 - Print a Phrase in Python\n",
        "\n",
        "Now, you have learnt to use the \"print\" function! Try to \"print\" a phrase now! Your output should look like this:\n",
        "\n",
        "\n",
        "\n",
        "```\n",
        "Your phrase here\n",
        "```\n",
        "\n"
      ],
      "metadata": {
        "id": "70lzyjG8QQ1u"
      }
    },
    {
      "cell_type": "markdown",
      "source": [
        "Write your code in the box below:"
      ],
      "metadata": {
        "id": "3a0CNxM-Qsek"
      }
    },
    {
      "cell_type": "code",
      "source": [],
      "metadata": {
        "id": "c21DkLtSQs_I"
      },
      "execution_count": null,
      "outputs": []
    },
    {
      "cell_type": "markdown",
      "source": [
        "#Task 3 - Writing Your First Variable\n",
        "\n",
        "\n",
        "We will explore variables now! In this case, \"hello\" is a box, and the box is contaning a value, which is the integer, 5.\n",
        "\n",
        "\n",
        "Assign the value of 5 to the variable \"hello\". Your output should look like this:\n",
        "\n",
        "\n",
        "```\n",
        "5\n",
        "```"
      ],
      "metadata": {
        "id": "3MsDSXt2QxZ1"
      }
    },
    {
      "cell_type": "markdown",
      "source": [
        "Write your code in the box below:"
      ],
      "metadata": {
        "id": "c3Slnf3VQ7tD"
      }
    },
    {
      "cell_type": "code",
      "source": [],
      "metadata": {
        "id": "2fIp3FffRfUU"
      },
      "execution_count": null,
      "outputs": []
    },
    {
      "cell_type": "markdown",
      "source": [
        "#Task 4 - Now write two variables in one code box\n",
        "\n",
        "Subtask A: You are tasked to assign the value of 5 to the variable \"hello\" and assign the value of 10 to the variable \"goodbye\"\n",
        "\n",
        "Subtask B: You are tasked to \"print\" the outputs of the variables \"hello\" and \"goodbye\". Your output should look like this:\n",
        "\n",
        "\n",
        "\n",
        "```\n",
        "5\n",
        "10\n",
        "```\n",
        "\n"
      ],
      "metadata": {
        "id": "yiyaHkiCRTYE"
      }
    },
    {
      "cell_type": "markdown",
      "source": [
        "Write your code in the box below:"
      ],
      "metadata": {
        "id": "FNC4GS5gReY-"
      }
    },
    {
      "cell_type": "code",
      "source": [],
      "metadata": {
        "id": "q32g5kqaQ75r"
      },
      "execution_count": null,
      "outputs": []
    },
    {
      "cell_type": "markdown",
      "source": [
        "#Congratulations! 🌟\n",
        "\n",
        "You have completed the first Python assignment! Please submit the assignment to your Google Classroom before the end of the class. \n",
        "\n",
        "\n",
        "Let your instructor know if you have further questions. Thank you! 😊"
      ],
      "metadata": {
        "id": "FdVM18pTRwh-"
      }
    }
  ],
  "metadata": {
    "colab": {
      "provenance": []
    },
    "kernelspec": {
      "display_name": "Python 3",
      "name": "python3"
    },
    "language_info": {
      "name": "python"
    }
  },
  "nbformat": 4,
  "nbformat_minor": 0
}