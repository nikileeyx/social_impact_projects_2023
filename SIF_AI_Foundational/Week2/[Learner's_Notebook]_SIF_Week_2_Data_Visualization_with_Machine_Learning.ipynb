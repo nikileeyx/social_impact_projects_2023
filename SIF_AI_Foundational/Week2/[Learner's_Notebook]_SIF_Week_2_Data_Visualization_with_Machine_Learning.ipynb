{
  "cells": [
    {
      "cell_type": "markdown",
      "metadata": {
        "id": "Voj9RqZV2gBW"
      },
      "source": [
        "#SIF Artificial Intelligence Foundational Week 2 - Machine Learning Pipeline Part 1 with Python"
      ]
    },
    {
      "cell_type": "markdown",
      "metadata": {
        "id": "CvGQtJSH2gBZ"
      },
      "source": [
        "## Introduction\n",
        "\n",
        "Data visualization is part of data exploration, which is a critical step in the AI cycle. You will use this technique to gain understanding and insights to the data you have gathered, and determine if the data is ready for further processing or if you need to collect more data or clean the data. \n",
        "\n",
        "You will also use this technique to present your results. \n",
        "\n",
        "In this notebook, we will focus on data visualization using the matplotlib library, a popular data visualization library in Python. \n",
        "\n",
        "## Context\n",
        "\n",
        "We will be working with Jaipur weather data obtained from [Kaggle](https://www.kaggle.com/rajatdey/jaipur-weather-forecasting/version/2), a platform for data enthusiasts to gather, share knowledge and compete for many prizes!\n",
        "\n",
        "The data has been cleaned and simplified, so that we can focus on data visualization instead of data cleaning. \n",
        "\n",
        "## Data in agriculture\n",
        "\n",
        "Imagine that you are a farmer. What would be your main concerns? You want to have the best conditions for your crops to grow and bear good yield. \n",
        "\n",
        "The weather is a crucial factor to the success of your farm (unless you are running an [indoor farm](https://www.nanalyze.com/2019/01/indoor-farming-agriculture-indoors/) ). Thankfully, you can more easily find weather data now with the prevalence of sensor technology. There are also numerous open data sources out there for you to collect your weather data. \n",
        "\n",
        "- [India open data source](https://data.gov.in/keywords/weather)\n",
        "- [Korea open data source](https://www.data.go.kr/e_main.jsp#/L21haW4=)\n",
        "- [Poland open data source](https://index.okfn.org/place/pl/)\n",
        "\n",
        "Alright, you have obtained your data (JaipurFinalCleanData.csv). This file contains weather information of Jaipur.\n",
        "\n",
        "What do you do next?"
      ]
    },
    {
      "cell_type": "markdown",
      "metadata": {
        "id": "dN03PmlJ2gBa"
      },
      "source": [
        "### Side note: What is csv?\n",
        "\n",
        "CSV (Comma-Separated Value) is a file containing a set of data, separated by [commas](http://w3c.github.io/csvw/use-cases-and-requirements/egypt-referendum-2012-result-csv-in-textwrangler.png).\n",
        "\n",
        "We usually access these files using spreadsheet applications such as Excel or Google Sheet. Do you know how this is done?\n",
        "\n",
        "Today, we will learn how to use Python to open csv files. "
      ]
    },
    {
      "cell_type": "markdown",
      "metadata": {
        "id": "lJx5T9Ai2gBa"
      },
      "source": [
        "## Use Python to open csv files\n",
        "\n",
        "We will use the [pandas](https://pandas.pydata.org/) library to work with our dataset. Pandas is a popular Python library for data science. It offers powerful and flexible data structures to make data manipulationa and analysis easier. \n",
        "\n",
        "## Import Pandas\n"
      ]
    },
    {
      "cell_type": "code",
      "execution_count": null,
      "metadata": {
        "id": "uDvCvhsd2gBb"
      },
      "outputs": [],
      "source": [
        "import pandas as pd #import pandas as pd means we can type \"pd\" to call the pandas library"
      ]
    },
    {
      "cell_type": "markdown",
      "metadata": {
        "id": "t-O5MNkC2gBc"
      },
      "source": [
        "Now that we have imported pandas, let's start by reading the csv file."
      ]
    },
    {
      "cell_type": "code",
      "source": [
        "#saving the csv file into a variable which we will call data frame\n",
        "dataframe = pd.read_csv(\"/content/JaipurData.csv\")"
      ],
      "metadata": {
        "id": "i3-nmlHCQDhv"
      },
      "execution_count": null,
      "outputs": []
    },
    {
      "cell_type": "markdown",
      "metadata": {
        "id": "rnGXez1u2gBd"
      },
      "source": [
        "## Exploring our data"
      ]
    },
    {
      "cell_type": "markdown",
      "metadata": {
        "id": "iLGsk67H2gBd"
      },
      "source": [
        "Great! We have now a variable to contain our weather data. Let's explore our data. Use the .head() function to see the first few rows of data. "
      ]
    },
    {
      "cell_type": "code",
      "execution_count": null,
      "metadata": {
        "scrolled": true,
        "id": "JAEzmKfp2gBe",
        "colab": {
          "base_uri": "https://localhost:8080/"
        },
        "outputId": "ff306a66-ade4-4d3b-ea94-1776751b1fac"
      },
      "outputs": [
        {
          "output_type": "stream",
          "name": "stdout",
          "text": [
            "         date  mean_temperature  max_temperature  min_temperature  \\\n",
            "0  2016-05-04                34               41               27   \n",
            "1  2016-05-05                31               38               24   \n",
            "2  2016-05-06                28               34               21   \n",
            "3  2016-05-07                30               38               23   \n",
            "4  2016-05-08                34               41               26   \n",
            "\n",
            "   Mean_dew_pt  mean_pressure  max_humidity  min_humidity  max_dew_pt_1  \\\n",
            "0            6        1006.00            27             5            12   \n",
            "1            7        1005.65            29             6            13   \n",
            "2           11        1007.94            61            13            16   \n",
            "3           13        1008.39            69            18            17   \n",
            "4           10        1007.62            50             8            14   \n",
            "\n",
            "   max_dew_pt_2  min_dew_pt_1  min_dew_pt_2  max_pressure_1  max_pressure_2  \\\n",
            "0            10            -2            -2            1009            1008   \n",
            "1            12             0            -2            1008            1009   \n",
            "2            13             6             0            1011            1008   \n",
            "3            16             9             6            1011            1011   \n",
            "4            17             6             9            1010            1011   \n",
            "\n",
            "   min_pressure_1  min_pressure_2  rainfall  \n",
            "0            1000            1001       0.0  \n",
            "1            1001            1000       0.0  \n",
            "2            1003            1001       5.0  \n",
            "3            1004            1003       0.0  \n",
            "4            1002            1004       0.0  \n"
          ]
        }
      ],
      "source": [
        "#dataframe.head() means we are getting the first 5 rows of data\n",
        "# try running it to see what data is in the jaipur csv file\n",
        "print (dataframe.head())"
      ]
    },
    {
      "cell_type": "markdown",
      "metadata": {
        "id": "VCNcyoZH2gBe"
      },
      "source": [
        "### Task 1: Display the first 10 rows of data by modifying the function above"
      ]
    },
    {
      "cell_type": "code",
      "execution_count": null,
      "metadata": {
        "id": "rVZuTFFs2gBf",
        "colab": {
          "base_uri": "https://localhost:8080/"
        },
        "outputId": "9c578d44-51c6-4250-e22d-f8151ad42da4"
      },
      "outputs": [
        {
          "output_type": "stream",
          "name": "stdout",
          "text": [
            "         date  mean_temperature  max_temperature  min_temperature  \\\n",
            "0  2016-05-04                34               41               27   \n",
            "1  2016-05-05                31               38               24   \n",
            "2  2016-05-06                28               34               21   \n",
            "3  2016-05-07                30               38               23   \n",
            "4  2016-05-08                34               41               26   \n",
            "5  2016-05-09                34               42               27   \n",
            "6  2016-05-10                34               41               27   \n",
            "7  2016-05-11                32               40               25   \n",
            "8  2016-05-12                34               42               27   \n",
            "9  2016-05-13                34               42               26   \n",
            "\n",
            "   Mean_dew_pt  mean_pressure  max_humidity  min_humidity  max_dew_pt_1  \\\n",
            "0            6        1006.00            27             5            12   \n",
            "1            7        1005.65            29             6            13   \n",
            "2           11        1007.94            61            13            16   \n",
            "3           13        1008.39            69            18            17   \n",
            "4           10        1007.62            50             8            14   \n",
            "5            8        1006.73            32             7            12   \n",
            "6           11        1005.75            45             7            16   \n",
            "7           16        1007.10            51            12            18   \n",
            "8           16        1006.78            66            16            22   \n",
            "9           13        1003.83            58             9            20   \n",
            "\n",
            "   max_dew_pt_2  min_dew_pt_1  min_dew_pt_2  max_pressure_1  max_pressure_2  \\\n",
            "0            10            -2            -2            1009            1008   \n",
            "1            12             0            -2            1008            1009   \n",
            "2            13             6             0            1011            1008   \n",
            "3            16             9             6            1011            1011   \n",
            "4            17             6             9            1010            1011   \n",
            "5            14             6             6            1010            1010   \n",
            "6            12             7             6            1008            1010   \n",
            "7            16            13             7            1010            1008   \n",
            "8            18            10            13            1011            1010   \n",
            "9            22            10            10            1007            1011   \n",
            "\n",
            "   min_pressure_1  min_pressure_2  rainfall  \n",
            "0            1000            1001       0.0  \n",
            "1            1001            1000       0.0  \n",
            "2            1003            1001       5.0  \n",
            "3            1004            1003       0.0  \n",
            "4            1002            1004       0.0  \n",
            "5            1002            1002       0.0  \n",
            "6            1000            1002       0.3  \n",
            "7            1002            1000       0.8  \n",
            "8            1001            1002       2.0  \n",
            "9             998            1001       0.3  \n"
          ]
        }
      ],
      "source": [
        "print (dataframe.head(10))"
      ]
    },
    {
      "cell_type": "markdown",
      "metadata": {
        "id": "RLjYIFka2gBf"
      },
      "source": [
        "Now that you have listed the first few rows of the data, what do you notice?\n",
        "- What headers are there? If you are not sure, look them up online!\n",
        "- Does the values recorded make sense to you?"
      ]
    },
    {
      "cell_type": "markdown",
      "metadata": {
        "id": "EVRQRjzN2gBf"
      },
      "source": [
        "### Find out your data type\n",
        "\n",
        "You can use dtypes to find out the type of data (i.e. string, float, integer) you have."
      ]
    },
    {
      "cell_type": "code",
      "execution_count": null,
      "metadata": {
        "id": "j8wcPK1v2gBf",
        "colab": {
          "base_uri": "https://localhost:8080/"
        },
        "outputId": "4a65eff9-fb4a-496e-f6be-8e3eb7cf2669"
      },
      "outputs": [
        {
          "output_type": "execute_result",
          "data": {
            "text/plain": [
              "date                 object\n",
              "mean_temperature      int64\n",
              "max_temperature       int64\n",
              "min_temperature       int64\n",
              "Mean_dew_pt           int64\n",
              "mean_pressure       float64\n",
              "max_humidity          int64\n",
              "min_humidity          int64\n",
              "max_dew_pt_1          int64\n",
              "max_dew_pt_2          int64\n",
              "min_dew_pt_1          int64\n",
              "min_dew_pt_2          int64\n",
              "max_pressure_1        int64\n",
              "max_pressure_2        int64\n",
              "min_pressure_1        int64\n",
              "min_pressure_2        int64\n",
              "rainfall            float64\n",
              "dtype: object"
            ]
          },
          "metadata": {},
          "execution_count": 7
        }
      ],
      "source": [
        "dataframe.dtypes"
      ]
    },
    {
      "cell_type": "markdown",
      "metadata": {
        "id": "PDA9ujui2gBg"
      },
      "source": [
        "### Side notes: Find out about a function\n",
        "Some times, we encounter a function we are not familiar with. We can use the help function within Jupyter to obtain more information about a function: It's functions, expected input, parameters and output. It will even give you examples on how to use the function! Let's try it with the .head() function."
      ]
    },
    {
      "cell_type": "code",
      "execution_count": null,
      "metadata": {
        "id": "eYb0NGFG2gBg"
      },
      "outputs": [],
      "source": [
        "dataframe.head?"
      ]
    },
    {
      "cell_type": "markdown",
      "metadata": {
        "id": "JR61NtgL2gBg"
      },
      "source": [
        "What do you notice? What are the parameters involved? What are the outputs generated?"
      ]
    },
    {
      "cell_type": "markdown",
      "metadata": {
        "id": "Q9o7zTMM2gBg"
      },
      "source": [
        "### Task 2: What does dtypes do?\n",
        "Use the help function ? to find out what dtypes is for"
      ]
    },
    {
      "cell_type": "code",
      "execution_count": null,
      "metadata": {
        "id": "mMeOAA832gBg"
      },
      "outputs": [],
      "source": [
        "dataframe.dtypes?"
      ]
    },
    {
      "cell_type": "markdown",
      "metadata": {
        "id": "xvJEKLvZ2gBg"
      },
      "source": [
        "What do you notice? What are the parameters involved? What are the outputs generated?\n",
        "\n",
        "## Choosing only dataset we are interested in. "
      ]
    },
    {
      "cell_type": "markdown",
      "metadata": {
        "id": "d4mI-9Ds2gBh"
      },
      "source": [
        "Let's see all the headers that we have first and consider which dataset we want to work with for now. \n",
        "### Task 3: list down the headers from the dataset"
      ]
    },
    {
      "cell_type": "code",
      "execution_count": null,
      "metadata": {
        "id": "AO-i1O892gBh",
        "outputId": "b7f9a13c-ce44-4e11-b54f-2257c1bcb7c8",
        "colab": {
          "base_uri": "https://localhost:8080/"
        }
      },
      "outputs": [
        {
          "output_type": "execute_result",
          "data": {
            "text/plain": [
              "date                 object\n",
              "mean_temperature      int64\n",
              "max_temperature       int64\n",
              "min_temperature       int64\n",
              "Mean_dew_pt           int64\n",
              "mean_pressure       float64\n",
              "max_humidity          int64\n",
              "min_humidity          int64\n",
              "max_dew_pt_1          int64\n",
              "max_dew_pt_2          int64\n",
              "min_dew_pt_1          int64\n",
              "min_dew_pt_2          int64\n",
              "max_pressure_1        int64\n",
              "max_pressure_2        int64\n",
              "min_pressure_1        int64\n",
              "min_pressure_2        int64\n",
              "rainfall            float64\n",
              "dtype: object"
            ]
          },
          "metadata": {},
          "execution_count": 8
        }
      ],
      "source": [
        "dataframe.dtypes"
      ]
    },
    {
      "cell_type": "markdown",
      "metadata": {
        "id": "_E0kEPb42gBh"
      },
      "source": [
        "Looks like there are 16 columns in this dataset and we don't need all of them for the purposes of this activity. One way to go about doing this, is to drop the columns that we don't need. Pandas provide an easy way for us to drop columns using the \".drop\" function. "
      ]
    },
    {
      "cell_type": "code",
      "execution_count": null,
      "metadata": {
        "id": "W7s9JhaQ2gBh"
      },
      "outputs": [],
      "source": [
        "dataframe = dataframe.drop([\"max_dew_pt_2\"], axis=1)"
      ]
    },
    {
      "cell_type": "markdown",
      "metadata": {
        "id": "Lo5m1N7U2gBh"
      },
      "source": [
        "Let's print to ensure that the columns are dropped, try printing them with head() or dtypes."
      ]
    },
    {
      "cell_type": "code",
      "execution_count": null,
      "metadata": {
        "scrolled": false,
        "id": "p8q6Zq0f2gBh",
        "outputId": "256f3ccf-cc6f-4bcc-bb44-9abe00d8bb0d",
        "colab": {
          "base_uri": "https://localhost:8080/"
        }
      },
      "outputs": [
        {
          "output_type": "execute_result",
          "data": {
            "text/plain": [
              "date                 object\n",
              "mean_temperature      int64\n",
              "max_temperature       int64\n",
              "min_temperature       int64\n",
              "Mean_dew_pt           int64\n",
              "mean_pressure       float64\n",
              "max_humidity          int64\n",
              "min_humidity          int64\n",
              "max_dew_pt_1          int64\n",
              "min_dew_pt_1          int64\n",
              "min_dew_pt_2          int64\n",
              "max_pressure_1        int64\n",
              "max_pressure_2        int64\n",
              "min_pressure_1        int64\n",
              "min_pressure_2        int64\n",
              "rainfall            float64\n",
              "dtype: object"
            ]
          },
          "metadata": {},
          "execution_count": 9
        }
      ],
      "source": [
        "dataframe.dtypes"
      ]
    },
    {
      "cell_type": "markdown",
      "metadata": {
        "id": "4ReY_RfH2gBh"
      },
      "source": [
        "### Task 4: Drop the following collums: (min_dew_pt_2, max_pressure_2, min_pressure_2)"
      ]
    },
    {
      "cell_type": "code",
      "execution_count": null,
      "metadata": {
        "id": "KTPOn5612gBh"
      },
      "outputs": [],
      "source": [
        "dataframe = dataframe.drop([\"min_dew_pt_2\", \"max_pressure_2\", \"min_pressure_2\"], axis=1)"
      ]
    },
    {
      "cell_type": "markdown",
      "metadata": {
        "id": "uVG3gZAa2gBh"
      },
      "source": [
        "### Task 5: Now check again if these collumns have beeen dropped"
      ]
    },
    {
      "cell_type": "code",
      "execution_count": null,
      "metadata": {
        "id": "MqTywHdY2gBi",
        "outputId": "6ef1fe31-45d2-4913-d334-4cf45b96333a",
        "colab": {
          "base_uri": "https://localhost:8080/"
        }
      },
      "outputs": [
        {
          "output_type": "execute_result",
          "data": {
            "text/plain": [
              "date                 object\n",
              "mean_temperature      int64\n",
              "max_temperature       int64\n",
              "min_temperature       int64\n",
              "Mean_dew_pt           int64\n",
              "mean_pressure       float64\n",
              "max_humidity          int64\n",
              "min_humidity          int64\n",
              "max_dew_pt_1          int64\n",
              "min_dew_pt_1          int64\n",
              "max_pressure_1        int64\n",
              "min_pressure_1        int64\n",
              "rainfall            float64\n",
              "dtype: object"
            ]
          },
          "metadata": {},
          "execution_count": 11
        }
      ],
      "source": [
        "dataframe.dtypes"
      ]
    },
    {
      "cell_type": "markdown",
      "metadata": {
        "id": "G4BeqK2o2gBi"
      },
      "source": [
        "Great! We can now focus on this set of data! "
      ]
    },
    {
      "cell_type": "markdown",
      "metadata": {
        "id": "R5AgV4Bk2gBi"
      },
      "source": [
        "## Sorting values using pandas\n",
        "\n",
        "Many times, you want to have a sense of range of data to help you understand more about it. Another feature of pandas dataframe is sorting of values. You can do so by using the sort_values() function."
      ]
    },
    {
      "cell_type": "code",
      "execution_count": null,
      "metadata": {
        "scrolled": false,
        "id": "RtFHDnC52gBi",
        "outputId": "d3ba15f1-913a-4d63-80c5-c56dc35bb283",
        "colab": {
          "base_uri": "https://localhost:8080/"
        }
      },
      "outputs": [
        {
          "output_type": "stream",
          "name": "stdout",
          "text": [
            "           date  mean_temperature  max_temperature  min_temperature  \\\n",
            "16   2016-05-20                38               46               30   \n",
            "15   2016-05-19                38               46               29   \n",
            "388  2017-05-27                38               45               32   \n",
            "17   2016-05-21                38               45               32   \n",
            "34   2016-06-07                38               45               30   \n",
            "..          ...               ...              ...              ...   \n",
            "336  2017-04-05                32               40               24   \n",
            "363  2017-05-02                32               40               24   \n",
            "50   2016-06-23                34               40               27   \n",
            "410  2017-06-18                33               39               27   \n",
            "412  2017-06-20                33               39               27   \n",
            "\n",
            "     Mean_dew_pt  mean_pressure  max_humidity  min_humidity  max_dew_pt_1  \\\n",
            "16             6         998.96            33             4            13   \n",
            "15            11         999.88            45             5            17   \n",
            "388           13        1001.26            43             6            18   \n",
            "17            10         997.92            38             4            18   \n",
            "34            13        1003.29            51             5            21   \n",
            "..           ...            ...           ...           ...           ...   \n",
            "336            8        1008.05            34             9            12   \n",
            "363           -2        1009.16            33             4            12   \n",
            "50            23        1003.00            84            31            25   \n",
            "410           19        1002.38            58            18            22   \n",
            "412           19         999.46            49            21            22   \n",
            "\n",
            "     min_dew_pt_1  max_pressure_1  min_pressure_1  rainfall  \n",
            "16             -2            1002             994       0.0  \n",
            "15              6            1002             994       0.0  \n",
            "388             7            1005             995       0.0  \n",
            "17              0            1001             992       0.0  \n",
            "34              5            1007             997       0.0  \n",
            "..            ...             ...             ...       ...  \n",
            "336             6            1011            1003       0.0  \n",
            "363           -17            1012            1005       0.0  \n",
            "50             20            1006             998       0.0  \n",
            "410            15            1004             997       0.0  \n",
            "412            17            1002             994       0.0  \n",
            "\n",
            "[100 rows x 13 columns]\n"
          ]
        }
      ],
      "source": [
        "jaipur_weather = dataframe.sort_values(by='max_temperature',ascending = False)\n",
        "print(jaipur_weather.head(100))"
      ]
    },
    {
      "cell_type": "markdown",
      "source": [
        "# Pause n Think 1 🤔\n",
        "\n",
        "1. What are the temprature and weather patterns?  Do they vary much?"
      ],
      "metadata": {
        "id": "M7Ku9MHIZdTX"
      }
    },
    {
      "cell_type": "code",
      "source": [
        "#Enter your response here\n"
      ],
      "metadata": {
        "id": "QDuR3mqOZqsF"
      },
      "execution_count": null,
      "outputs": []
    },
    {
      "cell_type": "markdown",
      "source": [
        "2. Imagine you are a farmer, what crops do you think can grow under these conditions?"
      ],
      "metadata": {
        "id": "wvrxx8KhZzDL"
      }
    },
    {
      "cell_type": "code",
      "source": [
        "#Enter your response here\n"
      ],
      "metadata": {
        "id": "AimljDjtaXKx"
      },
      "execution_count": null,
      "outputs": []
    },
    {
      "cell_type": "markdown",
      "metadata": {
        "id": "_MmLNb9w2gBi"
      },
      "source": [
        "What do you notice from the number? Look at the date. Can you see how the function help us sort data based on the date?\n",
        "\n",
        "### Task 6: Sort the values in ascending order of mean temperature and print the first 5 rows"
      ]
    },
    {
      "cell_type": "code",
      "execution_count": null,
      "metadata": {
        "id": "2RU1lOkp2gBi",
        "outputId": "4e5af8db-7c70-4b7a-e426-97c27cab5a4c",
        "colab": {
          "base_uri": "https://localhost:8080/"
        }
      },
      "outputs": [
        {
          "output_type": "stream",
          "name": "stdout",
          "text": [
            "           date  mean_temperature  max_temperature  min_temperature  \\\n",
            "252  2017-01-11                10               18                3   \n",
            "253  2017-01-12                12               19                4   \n",
            "254  2017-01-13                12               20                4   \n",
            "255  2017-01-14                12               20                5   \n",
            "258  2017-01-17                12               20                5   \n",
            "\n",
            "     Mean_dew_pt  mean_pressure  max_humidity  min_humidity  max_dew_pt_1  \\\n",
            "252            3        1017.00            94            17             9   \n",
            "253           -3        1017.54            70            13             2   \n",
            "254           -5        1017.24            75             4             2   \n",
            "255           -1        1017.75            70            10             1   \n",
            "258            3        1017.35            74            15             7   \n",
            "\n",
            "     min_dew_pt_1  max_pressure_1  min_pressure_1  rainfall  \n",
            "252            -5            1019            1015       0.0  \n",
            "253            -7            1020            1015       0.0  \n",
            "254           -93            1020            1015       0.0  \n",
            "255            -8            1020            1016       0.0  \n",
            "258            -2            1019            1015       0.0  \n"
          ]
        }
      ],
      "source": [
        "jaipur_weather = dataframe.sort_values(by='mean_temperature',ascending = True)\n",
        "print(jaipur_weather.head(5))"
      ]
    },
    {
      "cell_type": "markdown",
      "metadata": {
        "id": "bM0Kbyka2gBi"
      },
      "source": [
        "Look at the max and min temperature! See the range of temperature that one can experience within a day. \n",
        "\n",
        "### Task 7: Sort the values in descending order of mean temperature and print the first 5 rows"
      ]
    },
    {
      "cell_type": "code",
      "execution_count": null,
      "metadata": {
        "id": "89ENl4RU2gBj",
        "outputId": "fee7a52b-5c36-4852-b0aa-8e44a921a8ac",
        "colab": {
          "base_uri": "https://localhost:8080/"
        }
      },
      "outputs": [
        {
          "output_type": "stream",
          "name": "stdout",
          "text": [
            "          date  mean_temperature  max_temperature  min_temperature  \\\n",
            "32  2016-06-05                38               45               31   \n",
            "15  2016-05-19                38               46               29   \n",
            "31  2016-06-04                38               44               31   \n",
            "34  2016-06-07                38               45               30   \n",
            "35  2016-06-08                38               44               31   \n",
            "\n",
            "    Mean_dew_pt  mean_pressure  max_humidity  min_humidity  max_dew_pt_1  \\\n",
            "32            5        1004.67            27             4            18   \n",
            "15           11         999.88            45             5            17   \n",
            "31           13        1004.93            34            10            18   \n",
            "34           13        1003.29            51             5            21   \n",
            "35           12        1002.83            47             4            22   \n",
            "\n",
            "    min_dew_pt_1  max_pressure_1  min_pressure_1  rainfall  \n",
            "32             2            1007             999       0.0  \n",
            "15             6            1002             994       0.0  \n",
            "31             7            1008             999       0.0  \n",
            "34             5            1007             997       0.0  \n",
            "35             2            1006             996       0.0  \n"
          ]
        }
      ],
      "source": [
        "jaipur_weather = dataframe.sort_values(by='mean_temperature',ascending = False)\n",
        "print(jaipur_weather.head(5))"
      ]
    },
    {
      "cell_type": "markdown",
      "metadata": {
        "id": "x0CMmuYd2gBj"
      },
      "source": [
        "See how the temperature ranges within a year? 10C to 38C! \n",
        "\n",
        "Now we have a clearer picture of our dataset. Using these functions, we can analyze our data and gain insights of them. \n",
        "\n",
        "However, we want to get an even better picture. We want to learn how to explore these data visually. \n",
        "\n",
        "Let's now use the matplotlib library to help us with data visualization in Python. "
      ]
    },
    {
      "cell_type": "markdown",
      "metadata": {
        "id": "_t0waolP2gBj"
      },
      "source": [
        "# Part 2 - Modeling Importing matplotlib\n",
        "\n",
        "[Matplotlib](https://matplotlib.org/) is a Python 2D plotting library that we can use to produce high quality data visualization. It is highly usable (as you will soon find out), you can create simple and complex graphs with just a few lines of codes!\n",
        "\n",
        "Now let's load matplotlib to start plotting some graphs"
      ]
    },
    {
      "cell_type": "code",
      "execution_count": null,
      "metadata": {
        "id": "6MiI1kjk2gBj"
      },
      "outputs": [],
      "source": [
        "import matplotlib.pyplot as plt\n",
        "import numpy as np"
      ]
    },
    {
      "cell_type": "markdown",
      "metadata": {
        "id": "1x-QpHLa2gBj"
      },
      "source": [
        "## Scatter plot\n",
        "\n",
        "Scatter plots use a collection of points on a graph to display values from two variables. This allow us to see if there is any relationship or correlation between the two variables. \n",
        "\n",
        "Let's see how mean temperature changes over the years! "
      ]
    },
    {
      "cell_type": "code",
      "execution_count": null,
      "metadata": {
        "id": "0cEOAabZ2gBj"
      },
      "outputs": [],
      "source": [
        "x = dataframe.date\n",
        "y = dataframe.mean_temperature"
      ]
    },
    {
      "cell_type": "code",
      "execution_count": null,
      "metadata": {
        "id": "Zr0yqyDO2gBj"
      },
      "outputs": [],
      "source": [
        "plt.scatter(x,y)\n",
        "plt.show()"
      ]
    },
    {
      "cell_type": "markdown",
      "metadata": {
        "id": "k33rXzzr2gBk"
      },
      "source": [
        "Do you see that the x axis is filled with a thick line, and that there's no tick label available? This makes us unable to analyze the data. \n",
        "\n",
        "Let's try to modify this scatter plot so that we can see the ticks!\n",
        "\n",
        "### Choose only several ticks\n",
        "One reason why there's a thick bar below the x axis is that there are numerous labels (2 years daily data) on the x axis. \n",
        "\n",
        "The first thing we are going to do is to then reduce the number of ticks/ points for the x axis. We do this using the np.arrange function as below:"
      ]
    },
    {
      "cell_type": "code",
      "execution_count": null,
      "metadata": {
        "id": "NFWU5f462gBk"
      },
      "outputs": [],
      "source": [
        "plt.scatter(x,y)\n",
        "plt.xticks(np.arange(0, 731, 30))\n",
        "plt.show()"
      ]
    },
    {
      "cell_type": "markdown",
      "metadata": {
        "id": "KT3LzilI2gBk"
      },
      "source": [
        "See, now you can see the numbers clearer, but they are still overlapping.\n",
        "### Task 8: Change x ticks interval so that you can see the dates clearly"
      ]
    },
    {
      "cell_type": "code",
      "execution_count": null,
      "metadata": {
        "id": "yUzS4EJM2gBk"
      },
      "outputs": [],
      "source": [
        "plt.scatter(x,y)\n",
        "plt.xticks(np.arange(0, 731, 180))\n",
        "plt.show()"
      ]
    },
    {
      "cell_type": "markdown",
      "metadata": {
        "id": "laIOG0j_2gBk"
      },
      "source": [
        "What is the interval you use so that you can see all the dates? Do you notice that now we are only having very few ticks? \n",
        "\n",
        "Let's try to rotate our ticks. See the example on [Stackoverflow](https://stackoverflow.com/questions/10998621/rotate-axis-text-in-python-matplotlib)!\n",
        "\n",
        "Note: Stackoverflow is a site where technical personnel gather and share their knowledge. You can search for any queries over the site and see if there are already others who solve it!\n",
        "\n",
        "### Task 9: Rotate our x ticks label so that we can see more ticks more clearly"
      ]
    },
    {
      "cell_type": "code",
      "execution_count": null,
      "metadata": {
        "id": "5CBfYiWH2gBk"
      },
      "outputs": [],
      "source": [
        "plt.scatter(x,y)\n",
        "plt.xticks(np.arange(0, 731, 60))\n",
        "plt.xticks (rotation=90)\n",
        "plt.show()"
      ]
    },
    {
      "cell_type": "markdown",
      "metadata": {
        "id": "zbEkfRNT2gBk"
      },
      "source": [
        "Now we can see the x-ticks clearly. \n",
        "\n",
        "Notice how temperature changes according to the time of the year. Compare it with this [website](https://weather-and-climate.com/average-monthly-Rainfall-Temperature-Sunshine,jaipur,India). Does it inform you when to best plant your crop?\n",
        "\n",
        "### Giving label to the x and y axis\n",
        "\n",
        "You can also give label to the x and y axis. This will make it easier for you to visualise and share your data. "
      ]
    },
    {
      "cell_type": "code",
      "execution_count": null,
      "metadata": {
        "id": "nXS4bqA22gBk",
        "colab": {
          "base_uri": "https://localhost:8080/"
        },
        "outputId": "4d7805fd-3304-44d8-df72-dd6ac21f2c3f"
      },
      "outputs": [
        {
          "output_type": "display_data",
          "data": {
            "text/plain": [
              "<Figure size 432x288 with 1 Axes>"
            ],
            "image/png": "[encoded data removed]"
          },
          "metadata": {
            "needs_background": "light"
          }
        }
      ],
      "source": [
        "plt.scatter(x,y)\n",
        "plt.xticks(np.arange(0, 731, 60))\n",
        "plt.xticks (rotation=30)\n",
        "\n",
        "# Add x and y labels and set a font size\n",
        "plt.xlabel (\"Date\", fontsize = 14)\n",
        "plt.ylabel (\"Mean Temperature\", fontsize = 14)\n",
        "\n",
        "plt.show()"
      ]
    },
    {
      "cell_type": "markdown",
      "metadata": {
        "id": "KfIycvxC2gBk"
      },
      "source": [
        "Looks good! \n",
        "\n",
        "### Task 10: Now, let's add a title. \n",
        "See how to do it [here](https://python-graph-gallery.com/4-add-title-and-axis-label/). "
      ]
    },
    {
      "cell_type": "code",
      "execution_count": null,
      "metadata": {
        "id": "cZKRAQHf2gBk",
        "colab": {
          "base_uri": "https://localhost:8080/"
        },
        "outputId": "a9cf7050-b098-4d72-ccae-94020123698e"
      },
      "outputs": [
        {
          "output_type": "display_data",
          "data": {
            "text/plain": [
              "<Figure size 432x288 with 1 Axes>"
            ],
            "image/png": "[encoded data removed]"
          },
          "metadata": {
            "needs_background": "light"
          }
        }
      ],
      "source": [
        "plt.scatter(x,y)\n",
        "plt.xticks(np.arange(0, 731, 60))\n",
        "plt.xticks (rotation=30)\n",
        "\n",
        "# Add x and y labels and set a font size\n",
        "plt.xlabel (\"Date\", fontsize = 14)\n",
        "plt.ylabel (\"Mean Temperature\", fontsize = 14)\n",
        "plt.title('Mean Temperature at Jaipur')\n",
        "\n",
        "plt.show()"
      ]
    },
    {
      "cell_type": "markdown",
      "metadata": {
        "id": "0E6Nq0zT2gBl"
      },
      "source": [
        "### Task 11: Change the title size to be bigger than the x and y labels!"
      ]
    },
    {
      "cell_type": "code",
      "execution_count": null,
      "metadata": {
        "id": "v6mboywm2gBl",
        "colab": {
          "base_uri": "https://localhost:8080/",
          "height": 131
        },
        "outputId": "a8740eb6-893a-4134-80f9-c72f514ffe2e"
      },
      "outputs": [
        {
          "output_type": "error",
          "ename": "SyntaxError",
          "evalue": "ignored",
          "traceback": [
            "\u001b[0;36m  File \u001b[0;32m\"<ipython-input-26-3954274f2f33>\"\u001b[0;36m, line \u001b[0;32m10\u001b[0m\n\u001b[0;31m    plt.show()\u001b[0m\n\u001b[0m              ^\u001b[0m\n\u001b[0;31mSyntaxError\u001b[0m\u001b[0;31m:\u001b[0m unexpected EOF while parsing\n"
          ]
        }
      ],
      "source": [
        "plt.scatter(x,y)\n",
        "plt.xticks(np.arange(0, 731, 60))\n",
        "plt.xticks (rotation=30)\n",
        "\n",
        "# Add x and y labels, title and set a font size, for example plt.xlabel (\"Date\", fontsize = 14)\n",
        "plt.xlabel (#enter code here\n",
        "plt.ylabel (#enter code here\n",
        "plt.title (#enter code here\n",
        "\n",
        "plt.show()"
      ]
    },
    {
      "cell_type": "markdown",
      "metadata": {
        "id": "APTrcu582gBl"
      },
      "source": [
        "Good! Now, we can also change the size of the plot "
      ]
    },
    {
      "cell_type": "code",
      "execution_count": null,
      "metadata": {
        "id": "Tu0xbzqm2gBl"
      },
      "outputs": [],
      "source": [
        "# Change the default figure size\n",
        "plt.figure(figsize=(10,10))\n",
        "\n",
        "plt.scatter(x,y)\n",
        "plt.xticks(np.arange(0, 731, 60))\n",
        "plt.xticks (rotation=30)\n",
        "\n",
        "# Add x and y labels, title and set a font size \n",
        "# For example plt.xlabel (\"Date\", fontsize = 30)\n",
        "plt.xlabel (#enter code here\n",
        "plt.ylabel (#enter code here\n",
        "plt.title (#enter code here\n",
        "\n",
        "# Set the font size of the number labels on the axes\n",
        "plt.xticks (fontsize = 12)\n",
        "plt.yticks (fontsize = 12)\n",
        "\n",
        "plt.xticks (rotation=30, horizontalalignment='right')\n",
        "\n",
        "\n",
        "plt.show()"
      ]
    },
    {
      "cell_type": "markdown",
      "metadata": {
        "id": "EO0Zhkzk2gBl"
      },
      "source": [
        "Looking good! Now, let's customize our graphs with the shapes and colours that we like. See [here](https://python-graph-gallery.com/131-custom-a-matplotlib-scatterplot/) for examples\n",
        "\n",
        "### Task 12: Change your marker shape!"
      ]
    },
    {
      "cell_type": "code",
      "execution_count": null,
      "metadata": {
        "id": "xQzEnrL72gBl"
      },
      "outputs": [],
      "source": [
        "# Change the default figure size\n",
        "plt.figure(figsize=(10,10))\n",
        "\n",
        "plt.scatter(x,y, marker='*')\n",
        "plt.xticks(np.arange(0, 731, 60))\n",
        "plt.xticks (rotation=30)\n",
        "    \n",
        "# Add x and y labels, title and set a font size\n",
        "plt.xlabel (\"Date\", fontsize = 24)\n",
        "plt.ylabel (\"Mean Temperature\", fontsize = 24)\n",
        "plt.title('Mean Temperature at Jaipur', fontsize = 30)\n",
        "\n",
        "# Set the font size of the number labels on the axes\n",
        "plt.xticks (fontsize = 12)\n",
        "plt.yticks (fontsize = 12)\n",
        "\n",
        "plt.xticks (rotation=30, horizontalalignment='right')\n",
        "\n",
        "\n",
        "plt.show()"
      ]
    },
    {
      "cell_type": "markdown",
      "metadata": {
        "id": "_gH4GzXv2gBl"
      },
      "source": [
        "### Changing color\n",
        "\n",
        "You can also change the marker color. Check out the code below which show you how to do it!"
      ]
    },
    {
      "cell_type": "code",
      "execution_count": null,
      "metadata": {
        "id": "3OPnXWhx2gBl"
      },
      "outputs": [],
      "source": [
        "# Change the default figure size\n",
        "plt.figure(figsize=(10,10))\n",
        "\n",
        "plt.scatter(x,y, c='green', marker='*')\n",
        "plt.xticks(np.arange(0, 731, 60))\n",
        "plt.xticks (rotation=30)\n",
        "    \n",
        "# Add x and y labels, title and set a font size\n",
        "plt.xlabel (\"Date\", fontsize = 24)\n",
        "plt.ylabel (\"Mean Temperature\", fontsize = 24)\n",
        "plt.title('Mean Temperature at Jaipur', fontsize = 30)\n",
        "\n",
        "# Set the font size of the number labels on the axes\n",
        "plt.xticks (fontsize = 12)\n",
        "plt.yticks (fontsize = 12)\n",
        "\n",
        "plt.xticks (rotation=30, horizontalalignment='right')\n",
        "\n",
        "\n",
        "plt.show()"
      ]
    },
    {
      "cell_type": "markdown",
      "metadata": {
        "id": "Y93ujIL72gBm"
      },
      "source": [
        "Look at your working directory and check if the new image file has been created!"
      ]
    },
    {
      "cell_type": "markdown",
      "metadata": {
        "id": "BEHLBxKj2gBm"
      },
      "source": [
        "### Task 13: Change the data points to your favourite colour. \n",
        "Change the font colour and size too!"
      ]
    },
    {
      "cell_type": "markdown",
      "metadata": {
        "id": "Zj1DnPgM2gBm"
      },
      "source": [
        "If you are wondering how to get the nice bubble looking scatter plot in the slides. Here a sample code, try running it!"
      ]
    },
    {
      "cell_type": "code",
      "execution_count": null,
      "metadata": {
        "id": "f7U2ct_R2gBm"
      },
      "outputs": [],
      "source": [
        "import numpy as np\n",
        "\n",
        "colors = np.random.rand(len(y)) # Create random value\n",
        "#plt.scatter(x,y,c=colors,alpha=0.5)\n",
        "plt.scatter(x,y,c=colors,alpha=0.5)\n",
        "plt.show()"
      ]
    },
    {
      "cell_type": "markdown",
      "metadata": {
        "id": "7ABl0O1h2gBm"
      },
      "source": [
        "### Task 14: Try changing the alpha value and see what happens?"
      ]
    },
    {
      "cell_type": "markdown",
      "metadata": {
        "id": "NS-Dv1f52gBm"
      },
      "source": [
        "### Saving plot\n",
        "\n",
        "You can use plt.savefig(\"figurename.png\") to save the figure. Try it!"
      ]
    },
    {
      "cell_type": "code",
      "execution_count": null,
      "metadata": {
        "id": "dqs0DD672gBm"
      },
      "outputs": [],
      "source": [
        "plt.savefig(\"jaipur_scatter_plot.png\")"
      ]
    },
    {
      "cell_type": "markdown",
      "metadata": {
        "id": "kQGFt-kU2gBm"
      },
      "source": [
        "## Line Plots"
      ]
    },
    {
      "cell_type": "markdown",
      "metadata": {
        "id": "74tGrVfv2gBm"
      },
      "source": [
        "Besides showing relationship using scatter plot, time data as above can also be represented with a line plot. Let's see how this is done!"
      ]
    },
    {
      "cell_type": "code",
      "execution_count": null,
      "metadata": {
        "scrolled": true,
        "id": "6CT1DxTn2gBm"
      },
      "outputs": [],
      "source": [
        "y = dataframe.mean_temperature\n",
        "\n",
        "plt.plot(y)\n",
        "plt.ylabel(\"Mean Temperature\")\n",
        "plt.xlabel(\"Time\")\n",
        "\n",
        "Y_tick = ['May16','Jul16','Sept16','Nov16','Jan17','Mar17','May17','Jul17','Sept17','Nov17','Jan18','Mar18', 'May18' ]\n",
        "\n",
        "plt.xticks(np.arange(0, 731, 60), Y_tick , rotation=30)\n",
        "plt.xticks()\n",
        "\n",
        "plt.show()"
      ]
    },
    {
      "cell_type": "markdown",
      "metadata": {
        "id": "2mEocnt12gBm"
      },
      "source": [
        "### Task 15: Change the labels and add title so that it is clearer and easier for you to show this graph to others"
      ]
    },
    {
      "cell_type": "markdown",
      "metadata": {
        "id": "He3W5eoH2gBm"
      },
      "source": [
        "### Drawing multiple lines in a plot"
      ]
    },
    {
      "cell_type": "code",
      "execution_count": null,
      "metadata": {
        "id": "df-od7W32gBm"
      },
      "outputs": [],
      "source": [
        "x = dataframe.date\n",
        "y_1 = dataframe.max_temperature\n",
        "y_2 = dataframe.min_temperature\n",
        "\n",
        "plt.plot(x,y_1, label = \"Max temp\") \n",
        "plt.plot(x,y_2, label = \"Min temp\") \n",
        "\n",
        "plt.xticks(np.arange(0, 731, 60))\n",
        "plt.xticks (rotation=30)\n",
        "\n",
        "plt.legend()\n",
        "plt.show()"
      ]
    },
    {
      "cell_type": "markdown",
      "metadata": {
        "id": "np2bZmO_2gBm"
      },
      "source": [
        "### Task 16: Draw at least 3 line graphs in one plot!"
      ]
    },
    {
      "cell_type": "code",
      "execution_count": null,
      "metadata": {
        "id": "rXvbcIxY2gBn"
      },
      "outputs": [],
      "source": [
        "# Change the default figure size\n",
        "plt.figure(figsize=(20,10))\n",
        "\n",
        "x = dataframe.date \n",
        "y_1 = dataframe.max_temperature\n",
        "y_2 = dataframe.min_temperature\n",
        "y_3 = dataframe.mean_temperature\n",
        "\n",
        "z = y_1-y_2\n",
        "\n",
        "plt.plot(x,y_1, label = \"Max temp\") \n",
        "plt.plot(x,y_2, label = \"Min temp\") \n",
        "plt.plot(x,y_3, label = \"Mean temp\")\n",
        "plt.plot(x,z, label = \"range\")\n",
        "\n",
        "plt.xticks(np.arange(0, 731, 60))\n",
        "plt.xticks (rotation=30)\n",
        "\n",
        "plt.legend()\n",
        "plt.show()"
      ]
    },
    {
      "cell_type": "markdown",
      "metadata": {
        "id": "FRQuxZdT2gBn"
      },
      "source": [
        "## Histograms"
      ]
    },
    {
      "cell_type": "markdown",
      "metadata": {
        "id": "_f_tfPw02gBn"
      },
      "source": [
        "The histogram is useful to look at desity of values. For example, you might want to know how many days are hotter than 35C so that you can see what types of plants would survive better in your climate zone. The histogram allows us to see the probability distribution of our variables\n",
        "\n",
        "Let's look at how histograms are plotted."
      ]
    },
    {
      "cell_type": "code",
      "execution_count": null,
      "metadata": {
        "scrolled": true,
        "id": "WX0jKJKd2gBn"
      },
      "outputs": [],
      "source": [
        "y = dataframe.mean_temperature\n",
        "\n",
        "plt.hist(y,bins=10)\n",
        "\n",
        "plt.show()"
      ]
    },
    {
      "cell_type": "markdown",
      "metadata": {
        "id": "dtfBqQOm2gBn"
      },
      "source": [
        "What does the above means?\n",
        "\n",
        "Let's label the graph clearly as follows:\n",
        "\n",
        "- Title: Probability distribution of temperature over 2 years (2016 - 2018) in Jaipur\n",
        "- Y-axis: No.of days\n",
        "- X-axis: Temperature"
      ]
    },
    {
      "cell_type": "code",
      "execution_count": null,
      "metadata": {
        "id": "LQIEjlAk2gBn"
      },
      "outputs": [],
      "source": [
        "y = dataframe.mean_temperature\n",
        "\n",
        "plt.hist(y,bins=10)\n",
        "\n",
        "plt.ylabel(\"No.of days\")\n",
        "plt.xlabel(\"Temperature\")\n",
        "plt.title('Probability distribution of temperature over 2 years (2016 - 2018) in Jaipur')\n",
        "\n",
        "plt.show()"
      ]
    },
    {
      "cell_type": "markdown",
      "metadata": {
        "id": "No85RKRo2gBn"
      },
      "source": [
        "What is the mode of this dataset? what temperature range is represented the most/ the least?"
      ]
    },
    {
      "cell_type": "markdown",
      "metadata": {
        "id": "_vFtxZzc2gBn"
      },
      "source": [
        "### Task 17: What do you think are bins? Try changing the number of bins to 20. What do you notice?"
      ]
    },
    {
      "cell_type": "code",
      "execution_count": null,
      "metadata": {
        "id": "pukoJoQF2gBn"
      },
      "outputs": [],
      "source": [
        "y = dataframe.mean_temperature\n",
        "\n",
        "plt.hist(y,bins=20)\n",
        "\n",
        "plt.ylabel(\"No.of days\")\n",
        "plt.xlabel(\"Temperature\")\n",
        "plt.title('Probability distribution of temperature over 2 years (2016 - 2018) in Jaipur')\n",
        "\n",
        "plt.show()"
      ]
    },
    {
      "cell_type": "markdown",
      "metadata": {
        "id": "O_7jdU5w2gBn"
      },
      "source": [
        "What does the histogram tell you about the temperature in Jaipur over the last two years?"
      ]
    },
    {
      "cell_type": "markdown",
      "metadata": {
        "id": "x6_tmr8S2gBn"
      },
      "source": [
        "## Bar Charts"
      ]
    },
    {
      "cell_type": "markdown",
      "metadata": {
        "id": "2jRwTiYG2gBn"
      },
      "source": [
        "Bar chart looks like histogram, but they are not the same! See the difference between bar charts and histogram [here](https://www.edrawsoft.com/histogram-vs-bar-chart.php)\n",
        "\n",
        "Now, head over to the matplotlib library and look at the example for bar charts. Here's the [link](https://pythonspot.com/matplotlib-bar-chart/)! "
      ]
    },
    {
      "cell_type": "code",
      "execution_count": null,
      "metadata": {
        "scrolled": true,
        "id": "pgOi_MOF2gBn"
      },
      "outputs": [],
      "source": [
        "import matplotlib.pyplot as plt\n",
        "import numpy as np\n",
        " \n",
        "objects = ('Python', 'C++', 'Java', 'Perl', 'Scala', 'Lisp')\n",
        "y_pos = np.arange(len(objects))\n",
        "usage = [10,8,6,4,2,1]\n",
        " \n",
        "plt.bar(y_pos, usage, align='center')\n",
        "plt.xticks(y_pos, objects) # name the xticks\n",
        " \n",
        "plt.show()"
      ]
    },
    {
      "cell_type": "markdown",
      "metadata": {
        "id": "-mtyPaUe2gBq"
      },
      "source": [
        "Because we are not dealing with categories with Jaipur weather data, we will not use it to make a barchart. However, do remember how to create your bar chart!"
      ]
    },
    {
      "cell_type": "markdown",
      "metadata": {
        "id": "zM6RZzBm2gBq"
      },
      "source": [
        "Boxplots is used to determine the distribution of our dataset. \n",
        "\n",
        "We will explore boxplot using a sample tutorial obtained from matplotlib [website](https://matplotlib.org/gallery/pyplots/boxplot_demo_pyplot.html#sphx-glr-gallery-pyplots-boxplot-demo-pyplot-py)\n",
        "\n",
        "### First, we will create random data for our example"
      ]
    },
    {
      "cell_type": "code",
      "execution_count": null,
      "metadata": {
        "id": "1sUofxgc2gBq"
      },
      "outputs": [],
      "source": [
        "np.random.seed(10)\n",
        "data = np.random.normal(100, 10, 200)"
      ]
    },
    {
      "cell_type": "markdown",
      "metadata": {
        "id": "BqyyD3y92gBr"
      },
      "source": [
        "### Next, we will draw our boxplot"
      ]
    },
    {
      "cell_type": "code",
      "execution_count": null,
      "metadata": {
        "id": "y7o4XrvR2gBr"
      },
      "outputs": [],
      "source": [
        "fig1, ax1 = plt.subplots()\n",
        "ax1.set_title('Basic Plot')\n",
        "ax1.boxplot(data)\n",
        "plt.show()"
      ]
    },
    {
      "cell_type": "markdown",
      "metadata": {
        "id": "WAipSwlR2gBr"
      },
      "source": [
        "Great! you now have your boxplot. Do you remember how to read it? See [here](http://www.physics.csbsju.edu/stats/box2.html)\n",
        "\n",
        "From the reading, can you notice what are the values of the following:\n",
        "- Outlier\n",
        "- Median\n",
        "- First quartile\n",
        "- Third quartile"
      ]
    },
    {
      "cell_type": "markdown",
      "metadata": {
        "id": "2jZKIcHw2gBr"
      },
      "source": [
        "Now that you've understand how boxplot is plotted, apply boxplot to the data on temperature of Jaipur."
      ]
    },
    {
      "cell_type": "code",
      "execution_count": null,
      "metadata": {
        "id": "VBGrVkTm2gBr"
      },
      "outputs": [],
      "source": [
        "y=dataframe.mean_temperature\n",
        "\n",
        "plt.boxplot(y)\n",
        "plt.show()"
      ]
    },
    {
      "cell_type": "markdown",
      "metadata": {
        "id": "2_mKwr6B2gBr"
      },
      "source": [
        "What does the boxplot tell you about the temperature of Jaipur over the past two years?"
      ]
    },
    {
      "cell_type": "markdown",
      "metadata": {
        "id": "kK55sTWh2gBr"
      },
      "source": [
        "## Subplots\n",
        "\n",
        "Many times, you want to plot more than one graphs side by side. You can use subplots to do that!\n",
        "\n",
        "Here's how you can make them!"
      ]
    },
    {
      "cell_type": "code",
      "execution_count": null,
      "metadata": {
        "id": "ioveQ7jh2gBr"
      },
      "outputs": [],
      "source": [
        "x = dataframe.date\n",
        "y = dataframe.mean_temperature\n",
        "\n",
        "fig, (ax1, ax2) = plt.subplots(1, 2, sharey=True) #create 2 subplots with shared y axis\n",
        "fig.suptitle('Sharing Y axis')\n",
        "ax1.plot(x, y)\n",
        "ax2.scatter(x, y)\n",
        "plt.show()"
      ]
    },
    {
      "cell_type": "markdown",
      "metadata": {
        "id": "ronM781U2gBr"
      },
      "source": [
        "### Task 18: Create subplots with 3 plots where the y axis is shared!"
      ]
    },
    {
      "cell_type": "code",
      "execution_count": null,
      "metadata": {
        "id": "CZyY89y52gBr"
      },
      "outputs": [],
      "source": [
        "x = dataframe.date\n",
        "y_1 = dataframe.mean_temperature\n",
        "y_2 = dataframe.max_temperature\n",
        "y_3 = dataframe.min_temperature\n",
        "\n",
        "fig, (ax1, ax2, ax3) = plt.subplots(1, 3, sharey=True) #create 3 subplots with shared y axis\n",
        "fig.suptitle('Sharing Y axis')\n",
        "ax1.plot(x, y_1)\n",
        "ax2.plot(x, y_2)\n",
        "ax3.plot(x, y_3)\n",
        "\n",
        "plt.show()"
      ]
    }
  ],
  "metadata": {
    "kernelspec": {
      "display_name": "Python 3",
      "language": "python",
      "name": "python3"
    },
    "language_info": {
      "codemirror_mode": {
        "name": "ipython",
        "version": 3
      },
      "file_extension": ".py",
      "mimetype": "text/x-python",
      "name": "python",
      "nbconvert_exporter": "python",
      "pygments_lexer": "ipython3",
      "version": "3.8.5"
    },
    "colab": {
      "provenance": [],
      "collapsed_sections": [
        "Q9o7zTMM2gBg",
        "bM0Kbyka2gBi",
        "Hr5uMJmGXbFA",
        "zbEkfRNT2gBk",
        "KfIycvxC2gBk",
        "EO0Zhkzk2gBl",
        "_gH4GzXv2gBl",
        "BEHLBxKj2gBm",
        "7ABl0O1h2gBm",
        "NS-Dv1f52gBm",
        "2mEocnt12gBm",
        "He3W5eoH2gBm",
        "np2bZmO_2gBm"
      ]
    }
  },
  "nbformat": 4,
  "nbformat_minor": 0
}
