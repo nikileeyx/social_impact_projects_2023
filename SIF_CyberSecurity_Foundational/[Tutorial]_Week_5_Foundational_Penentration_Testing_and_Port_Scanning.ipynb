{
  "nbformat": 4,
  "nbformat_minor": 0,
  "metadata": {
    "colab": {
      "provenance": []
    },
    "kernelspec": {
      "name": "python3",
      "display_name": "Python 3"
    },
    "language_info": {
      "name": "python"
    }
  },
  "cells": [
    {
      "cell_type": "markdown",
      "source": [
        "#**[Tutorial] Week 5 Foundational - Penentration Testing and Port Scanning**\n",
        "\n",
        "**New to Google Colab?**\n",
        "Step-by-step videos - hope these will help you 🙂\n",
        "\n",
        "Welcome To Google Colaboratory! - Ep 01 Getting Started\n",
        "https://youtu.be/dc2Q42gdPMI\n",
        "\n",
        "Downloading from GitHub to Your Python Environment! - Ep 02 Getting Started\n",
        " https://youtu.be/26N2LBnZPcI"
      ],
      "metadata": {
        "id": "cEZLmBn8Da2p"
      }
    },
    {
      "cell_type": "markdown",
      "source": [
        "#**What is Penetration Testing**\n",
        "\n",
        "Recall from our session, we covered what a penetration test is. It is also known as a pen test or ethical hacking, is an authorized simulated cyberattack on a computer system, performed to evaluate the security of the system.\n"
      ],
      "metadata": {
        "id": "4_35Roiujl_r"
      }
    },
    {
      "cell_type": "markdown",
      "source": [
        "#**Ports**\n",
        "Computer ports are communication endpoints that allow different applications and services to communicate with each other over a network. Each port is associated with a specific protocol and is identified by a number between 0 and 65535.\n",
        "\n",
        "Here are some common ports and their associated protocols:\n",
        "\n",
        "Port 21: FTP (File Transfer Protocol) traffic for file transfers\n",
        "\n",
        "Port 22: SSH (Secure Shell) traffic for remote access\n",
        "\n",
        "Port 25: SMTP (Simple Mail Transfer Protocol) traffic for email\n",
        "\n",
        "Port 80: HTTP (Hypertext Transfer Protocol) traffic for web traffic\n",
        "\n",
        "Port 110: POP3 (Post Office Protocol) traffic for email\n",
        "\n",
        "Port 143: IMAP (Internet Message Access Protocol) traffic for email\n",
        "\n",
        "Port 443: HTTPS (Hypertext Transfer Protocol Secure) traffic for secure web traffic\n",
        "\n"
      ],
      "metadata": {
        "id": "rOeVL4rysHMJ"
      }
    },
    {
      "cell_type": "markdown",
      "source": [
        "#**What is Port Scanning**\n",
        "While port scanning is just one aspect of penetration testing, it is an important one. By conducting port scanning as part of a penetration test, testers can identify potential vulnerabilities that can be used to gain unauthorized access to a system or network. In addition, port scanning can help identify rogue services that may be running on a network, which can pose a security risk.\n",
        "\n",
        "\n",
        "Port screening can also help organizations identify unauthorized or rogue services that may be running on their network. By identifying and removing these services, organizations can reduce the risk of data breaches and other cyber attacks."
      ],
      "metadata": {
        "id": "I_IbdwcgqVJE"
      }
    },
    {
      "cell_type": "markdown",
      "source": [
        "#**What is an Open Port**\n",
        "\n",
        "In cybersecurity, the term open port refers to a TCP or UDP port number that is configured to accept packets.\n",
        "\n",
        "\n",
        "*   Ports allow communication between devices. Internet-facing services and applications essentially listen on ports for a connection from the outside to do their jobs. Without ports, communication between hosts over the internet is not possible.\n",
        "\n",
        "*   Malicious (\"black hat\") hackers commonly use port scanning software to find which ports are \"open\" (unfiltered) in a given computer, and whether or not an actual service is listening on that port. They can then attempt to exploit potential vulnerabilities in any services they find.\n",
        "\n",
        "*   In this code, we define the target as the IP or hostname of the machine we want to scan, and a list of ports that we want to scan. We then iterate through the list of ports and attempt to connect to each port using the socket library. If the connection is successful, we print a message indicating that the port is open. If the connection is unsuccessful, we print a message indicating that the port is closed.\n",
        "\n"
      ],
      "metadata": {
        "id": "x_W7F_PfjOsc"
      }
    },
    {
      "cell_type": "markdown",
      "source": [
        "The output of a port scan can vary depending on the method used and the tool being used to perform the scan. In the Python code provided above, the output will be printed to the console and will indicate whether each port in the specified list is open or closed. The output will be in the form of text messages, as follows:\n",
        "\n",
        "If a port is open: the message \"Port [port number] is open\" will be printed to the console, where [port number] is the number of the open port being scanned.\n",
        "\n",
        "If a port is closed: the message \"Port [port number] is closed\" will be printed to the console, where [port number] is the number of the closed port being scanned.\n",
        "\n",
        "Here's an example of what the output might look like:\n",
        "\n",
        "\n",
        "\n",
        "```\n",
        "Port 21 is open\n",
        "Port 22 is closed\n",
        "Port 80 is open\n",
        "Port 443 is closed\n",
        "```\n",
        "\n",
        "\n",
        "In this example, the Python script has scanned ports 21, 22, 80, and 443 on the target machine and has determined that ports 21 and 80 are open, while ports 22 and 443 are closed.\n",
        "\n",
        "Note that there may be other types of output from more advanced port scanning tools, such as graphical interfaces, detailed reports, or integration with other security tools. However, the basic output from a port scan will typically indicate which ports are open and closed on the target machine."
      ],
      "metadata": {
        "id": "iJGqq48SEFQo"
      }
    },
    {
      "cell_type": "code",
      "execution_count": null,
      "metadata": {
        "id": "CknypAFeixPg"
      },
      "outputs": [],
      "source": [
        "#!/usr/bin/python3\n",
        "import socket"
      ]
    },
    {
      "cell_type": "markdown",
      "source": [
        "#**Port Scanning with IP Addresses**\n",
        "\n",
        "Checking for the IP Address that you are scanning, and the relevant ports."
      ],
      "metadata": {
        "id": "MtS2wHI1zbgK"
      }
    },
    {
      "cell_type": "code",
      "source": [
        "s = socket.socket(socket.AF_INET, socket.SOCK_STREAM)\n",
        "s.settimeout(5)\n",
        "\n",
        "host = input(\"Please enter the IP you want to scan: \")\n",
        "port = int(input(\"Please enter the port you want to scan: \"))\n",
        "\n",
        "\n",
        "def portScanner(port):\n",
        "    if s.connect_ex((host, port)):\n",
        "        print(\"The port is closed\")\n",
        "    else:\n",
        "        print(\"The port is open\")\n",
        "\n",
        "portScanner(port)"
      ],
      "metadata": {
        "id": "gPXT8zFbizx-"
      },
      "execution_count": 1,
      "outputs": []
    },
    {
      "cell_type": "markdown",
      "source": [
        "#**Scanning Multiple Ports**\n",
        "\n",
        "Checking for the IP Address that you are scanning, and the relevant ports."
      ],
      "metadata": {
        "id": "0uHI6pDxzk_l"
      }
    },
    {
      "cell_type": "code",
      "source": [
        "import socket\n",
        "\n",
        "target = 'localhost' # replace with the IP or hostname of the target machine\n",
        "ports = [21, 22, 80, 443] # replace with the list of ports to scan\n",
        "\n",
        "for port in ports:\n",
        "    sock = socket.socket(socket.AF_INET, socket.SOCK_STREAM)\n",
        "    sock.settimeout(1) # set the timeout for the connection\n",
        "    result = sock.connect_ex((target, port)) # attempt to connect to the port\n",
        "    if result == 0:\n",
        "        print(f\"Port {port} is open\")\n",
        "    else:\n",
        "        print(f\"Port {port} is closed\")\n",
        "\n",
        "    sock.close()"
      ],
      "metadata": {
        "id": "jiJJtER1ufSy"
      },
      "execution_count": 1,
      "outputs": []
    },
    {
      "cell_type": "markdown",
      "source": [
        "#**How to Secure Open Ports** \n",
        "\n",
        "\n",
        "*   Access ports using a secure virtual private network (VPN). If a business needed something like RDP, ITS would use an encrypted VPN connection to access RDP instead of leaving it open to the internet.\n",
        "*   Use multi-factor authentication (MFA)\n",
        "*   Implement network segmentation\n",
        "*   Scan network ports regularly."
      ],
      "metadata": {
        "id": "yMnJVQ6skOSS"
      }
    }
  ]
}