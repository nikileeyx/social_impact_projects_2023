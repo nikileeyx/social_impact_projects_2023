{
  "nbformat": 4,
  "nbformat_minor": 0,
  "metadata": {
    "colab": {
      "provenance": []
    },
    "kernelspec": {
      "name": "python3",
      "display_name": "Python 3"
    },
    "language_info": {
      "name": "python"
    }
  },
  "cells": [
    {
      "cell_type": "markdown",
      "source": [
        "#SIF Cyber Security Foundational Week 6 - Password Checker\n",
        "\n",
        "#Password Checker\n",
        "\n",
        "Both ISO 27000 and NIST provide guidelines for password standards and operating procedures to enhance the security of information systems. However, there are some differences between the two standards:\n",
        "\n",
        "Password Complexity: ISO 27000 requires passwords to be complex, containing a combination of upper and lowercase letters, numbers, and special characters. NIST, on the other hand, recommends the use of long and easy-to-remember passphrases, rather than complex passwords.\n",
        "\n",
        "Password Length: ISO 27000 requires a minimum password length of 8 characters, while NIST recommends a minimum length of 15 characters.\n",
        "\n",
        "Password Aging: ISO 27000 recommends password aging policies, which require users to change their passwords periodically. NIST, however, recommends against password aging policies, instead encouraging the use of multi-factor authentication and other security measures."
      ],
      "metadata": {
        "id": "VTHiGPQG1UPs"
      }
    },
    {
      "cell_type": "markdown",
      "source": [
        "#Code for Password Checking\n"
      ],
      "metadata": {
        "id": "YvtpQPDv1cZe"
      }
    },
    {
      "cell_type": "code",
      "execution_count": null,
      "metadata": {
        "id": "wpVDfSZ5XUIR"
      },
      "outputs": [],
      "source": [
        "import re\n",
        "\n",
        "def password_strength(password):\n",
        "    # Calculate the password length score\n",
        "    length_score = min(2 * len(password), 20)\n",
        "\n",
        "    # Calculate the password complexity score\n",
        "    complexity_score = 0\n",
        "    if re.search(\"[a-z]\", password):\n",
        "        complexity_score += 1\n",
        "    if re.search(\"[A-Z]\", password):\n",
        "        complexity_score += 1\n",
        "    if re.search(\"[0-9]\", password):\n",
        "        complexity_score += 1\n",
        "    if re.search(\"[^a-zA-Z0-9]\", password):\n",
        "        complexity_score += 1\n",
        "    complexity_score = min(max(complexity_score, 2), 4) * 10\n",
        "\n",
        "    # Calculate the password entropy score\n",
        "    entropy_score = min(10, int(len(password) / 4))\n",
        "\n",
        "    # Calculate the password overall strength score\n",
        "    strength_score = length_score + complexity_score + entropy_score\n",
        "\n",
        "    # Calculate the password strength percentage\n",
        "    strength_percentage = int((strength_score / 70) * 100)\n",
        "\n",
        "    # Return the password strength percentage and recommendations\n",
        "    recommendations = []\n",
        "    if length_score < 10:\n",
        "        recommendations.append(\"Use a longer password.\")\n",
        "    if complexity_score < 30:\n",
        "        recommendations.append(\"Use a more complex password with a mix of lowercase letters, uppercase letters, digits, and special characters.\")\n",
        "    if entropy_score < 3:\n",
        "        recommendations.append(\"Use a more random password.\")\n",
        "    return strength_percentage, recommendations\n",
        "\n",
        "# Ask the user for a password input\n",
        "password = input(\"Enter your password: \")\n",
        "\n",
        "# Call the password_strength function to get the password strength percentage and recommendations\n",
        "strength_percentage, recommendations = password_strength(password)\n",
        "\n",
        "# Print the password strength percentage and recommendations\n",
        "print(\"Password strength:\", strength_percentage, \"%\")\n",
        "if recommendations:\n",
        "    print(\"Recommendations:\")\n",
        "    for recommendation in recommendations:\n",
        "        print(\"-\", recommendation)"
      ]
    },
    {
      "cell_type": "markdown",
      "source": [
        "#Pause and Think 🤔 \n",
        "\n",
        "Based on the code above, what are some of the guidelines for password requirements? List them in the box below."
      ],
      "metadata": {
        "id": "Nnbms9Rg1w4O"
      }
    },
    {
      "cell_type": "code",
      "source": [
        "#Type your response here. Running the code cell is not needed.\n",
        "\n",
        "\n",
        "\n",
        "\n",
        "\n"
      ],
      "metadata": {
        "id": "5kAjYDKr14Jn"
      },
      "execution_count": null,
      "outputs": []
    },
    {
      "cell_type": "markdown",
      "source": [
        "#Password Standards and Operating Procedures\n",
        "\n",
        "Citizens can take away the following action steps to improve their password security:\n",
        "\n",
        "1.   Use complex passwords or passphrases that are easy to remember but difficult to guess.\n",
        "\n",
        "2.   Use different passwords for different accounts.\n",
        "\n",
        "3.   Avoid using personal information, such as names or birthdates, in passwords.\n",
        "\n",
        "4.   Consider using a password manager to generate and store unique, complex passwords.\n",
        "\n",
        "5.   Regularly update passwords and avoid reusing old passwords.\n",
        "\n",
        "6.   Enable multi-factor authentication where possible to add an extra layer of security to accounts.\n",
        "\n",
        "\n",
        "\n"
      ],
      "metadata": {
        "id": "12BcUYAr1C1K"
      }
    }
  ]
}